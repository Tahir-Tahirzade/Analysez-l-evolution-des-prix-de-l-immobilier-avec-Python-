{
 "cells": [
  {
   "cell_type": "markdown",
   "id": "8ea5dde0",
   "metadata": {
    "id": "8ea5dde0"
   },
   "source": [
    "# OpenClassrooms - parcours Data Analyst Business Intelligence - P8"
   ]
  },
  {
   "cell_type": "markdown",
   "id": "54cde67e",
   "metadata": {
    "id": "54cde67e"
   },
   "source": [
    "# Milestone 1 - Analyse des données"
   ]
  },
  {
   "cell_type": "markdown",
   "id": "10c1c891",
   "metadata": {
    "id": "10c1c891"
   },
   "source": [
    "Dans cette partie nous allons analyser le jeu de données que nous avons à notre disposition. Notre objectif est de comprendre les relations entre les variables, et surtout, celles qui influent sur le prix des transactions immobilières. Grâce à ce travail, nous pourrons ne conserver que les variables qui seront utiles à l'apprentissage de notre algorithme."
   ]
  },
  {
   "cell_type": "markdown",
   "id": "0536dfdf",
   "metadata": {
    "id": "0536dfdf"
   },
   "source": [
    "## 1.Type des données"
   ]
  },
  {
   "cell_type": "markdown",
   "id": "a2a6c7c1",
   "metadata": {
    "id": "a2a6c7c1"
   },
   "source": [
    "La première étape à réaliser est d'importer les données dans le notebook et d'opérer des transformations sur les variables si celles-ci s'imposent (exemple : nettoyage ou changement de type des variables, etc.)."
   ]
  },
  {
   "cell_type": "code",
   "execution_count": 1,
   "id": "8a4de40f",
   "metadata": {
    "id": "8a4de40f"
   },
   "outputs": [],
   "source": [
    "#On importe les librairies que nous utiliserons pour traiter les données et les visualiser\n",
    "import pandas as pd, numpy as np\n",
    "# N'oubliez pas d'avoir installé les librairies pandas, numpy et matplotlib via la commande pip\n",
    "\n",
    "import numpy as np\n",
    "import warnings\n",
    "warnings.simplefilter(\"ignore\")\n",
    "\n",
    "#Importation de la librairie plotly express\n",
    "import plotly.express as px\n",
    "\n",
    "\n",
    "# Charger les données à partir d'un fichier Excel\n",
    "#On importe les données dans un dataframe\n",
    "df_historique = pd.read_excel(r\"C:\\Users\\M22O101\\Downloads\\Openclasroom\\Projet 8_102023\\historique_immobilier_paris_2017_2021.xlsx\")\n",
    "df_portefeuille_actifs= pd.read_excel(r\"C:\\Users\\M22O101\\Downloads\\Openclasroom\\Projet 8_102023\\portefeuille_actifs.xlsx.\")\n",
    "df_echantillon_a_classer=pd.read_excel(r\"C:\\Users\\M22O101\\Downloads\\Openclasroom\\Projet 8_102023\\echantillon_a_classer.xlsx\")\n"
   ]
  },
  {
   "cell_type": "markdown",
   "id": "70dc6974",
   "metadata": {
    "id": "70dc6974"
   },
   "source": [
    "Attention, si l'opération ci-dessus ne marche pas, il se peut que le package \"openpyxl\" ne soit pas présent sur votre ordinateur. Si c'est le cas vous pouvez l'installer en éxécutant la commande : pip install openpyxl ou conda install openpyxl."
   ]
  },
  {
   "cell_type": "code",
   "execution_count": 2,
   "id": "3655b793",
   "metadata": {
    "id": "3655b793",
    "outputId": "7a1009ac-7a3a-416e-f9d6-61cbec72f073"
   },
   "outputs": [
    {
     "name": "stdout",
     "output_type": "stream",
     "text": [
      "<class 'pandas.core.frame.DataFrame'>\n",
      "RangeIndex: 26196 entries, 0 to 26195\n",
      "Data columns (total 9 columns):\n",
      " #   Column            Non-Null Count  Dtype         \n",
      "---  ------            --------------  -----         \n",
      " 0   date_mutation     26196 non-null  datetime64[ns]\n",
      " 1   valeur_fonciere   26196 non-null  float64       \n",
      " 2   adresse_numero    26196 non-null  int64         \n",
      " 3   adresse_nom_voie  26196 non-null  object        \n",
      " 4   code_postal       26196 non-null  int64         \n",
      " 5   nom_commune       26196 non-null  object        \n",
      " 6   code_type_local   26196 non-null  int64         \n",
      " 7   type_local        26196 non-null  object        \n",
      " 8   surface_reelle    26196 non-null  int64         \n",
      "dtypes: datetime64[ns](1), float64(1), int64(4), object(3)\n",
      "memory usage: 1.8+ MB\n"
     ]
    }
   ],
   "source": [
    "#On vérifie que le type des données attribué par pandas est cohérent\n",
    "df_historique.info()"
   ]
  },
  {
   "cell_type": "code",
   "execution_count": 3,
   "id": "7d6b0b86",
   "metadata": {
    "id": "7d6b0b86",
    "outputId": "857f5941-84f4-407c-fc64-dff2112dbfa2"
   },
   "outputs": [
    {
     "data": {
      "text/plain": [
       "date_mutation       datetime64[ns]\n",
       "valeur_fonciere            float64\n",
       "adresse_numero               int64\n",
       "adresse_nom_voie            object\n",
       "code_postal                  int64\n",
       "nom_commune                 object\n",
       "code_type_local              int64\n",
       "type_local                  object\n",
       "surface_reelle               int64\n",
       "dtype: object"
      ]
     },
     "execution_count": 3,
     "metadata": {},
     "output_type": "execute_result"
    }
   ],
   "source": [
    "df_historique.dtypes"
   ]
  },
  {
   "cell_type": "markdown",
   "id": "71c6c622",
   "metadata": {
    "id": "71c6c622"
   },
   "source": [
    "### 2. Regardons les différents types de biens immobiliers que nous avons dans nos données :"
   ]
  },
  {
   "cell_type": "code",
   "execution_count": 4,
   "id": "746ed1b1",
   "metadata": {
    "id": "746ed1b1",
    "outputId": "d80135aa-47da-445f-dae0-0a79f0657cf3",
    "scrolled": true
   },
   "outputs": [
    {
     "name": "stdout",
     "output_type": "stream",
     "text": [
      "la liste des différents types de biens immobiliers que nous avons dans les données est ?:\n"
     ]
    },
    {
     "data": {
      "text/plain": [
       "Appartement                                 24353\n",
       "Local industriel. commercial ou assimilé     1843\n",
       "Name: type_local, dtype: int64"
      ]
     },
     "execution_count": 4,
     "metadata": {},
     "output_type": "execute_result"
    }
   ],
   "source": [
    "print('la liste des différents types de biens immobiliers que nous avons dans les données est ?:')\n",
    "df_historique[\"type_local\"].value_counts()\n"
   ]
  },
  {
   "cell_type": "markdown",
   "id": "a99557d0",
   "metadata": {
    "id": "a99557d0"
   },
   "source": [
    "On observe qu'il y a ? types de biens, et que leurs codes types sont ?.\n",
    "On observe qu'il y a 2 types de biens au total, et que leurs codes types sont \"Appartement\" et \"Local industriel, commercial ou assimilé\"."
   ]
  },
  {
   "cell_type": "code",
   "execution_count": 5,
   "id": "5cc52dee",
   "metadata": {
    "id": "5cc52dee",
    "outputId": "566250f6-ea16-4e0b-d1dc-d7d126a0fbfb"
   },
   "outputs": [
    {
     "data": {
      "text/html": [
       "<div>\n",
       "<style scoped>\n",
       "    .dataframe tbody tr th:only-of-type {\n",
       "        vertical-align: middle;\n",
       "    }\n",
       "\n",
       "    .dataframe tbody tr th {\n",
       "        vertical-align: top;\n",
       "    }\n",
       "\n",
       "    .dataframe thead th {\n",
       "        text-align: right;\n",
       "    }\n",
       "</style>\n",
       "<table border=\"1\" class=\"dataframe\">\n",
       "  <thead>\n",
       "    <tr style=\"text-align: right;\">\n",
       "      <th></th>\n",
       "      <th>type_local</th>\n",
       "      <th>code_type_local</th>\n",
       "      <th>nombres</th>\n",
       "    </tr>\n",
       "  </thead>\n",
       "  <tbody>\n",
       "    <tr>\n",
       "      <th>0</th>\n",
       "      <td>Appartement</td>\n",
       "      <td>2</td>\n",
       "      <td>24353</td>\n",
       "    </tr>\n",
       "    <tr>\n",
       "      <th>1</th>\n",
       "      <td>Local industriel. commercial ou assimilé</td>\n",
       "      <td>4</td>\n",
       "      <td>1843</td>\n",
       "    </tr>\n",
       "  </tbody>\n",
       "</table>\n",
       "</div>"
      ],
      "text/plain": [
       "                                 type_local  code_type_local  nombres\n",
       "0                               Appartement                2    24353\n",
       "1  Local industriel. commercial ou assimilé                4     1843"
      ]
     },
     "execution_count": 5,
     "metadata": {},
     "output_type": "execute_result"
    }
   ],
   "source": [
    "calculation = df_historique.groupby(['type_local','code_type_local']).count().reset_index()\n",
    "calculation.loc[:,:'date_mutation'].rename(columns={'date_mutation':'nombres'})\n"
   ]
  },
  {
   "cell_type": "markdown",
   "id": "baabd91b",
   "metadata": {
    "id": "baabd91b"
   },
   "source": [
    " On Observe qu'il ya 2 types des biens les\" appartement\" et les \" local indistriel commercial ou assimilé \" ainsi que leurs codes types sont 2 et 3\n"
   ]
  },
  {
   "cell_type": "markdown",
   "id": "6416e560",
   "metadata": {
    "id": "6416e560"
   },
   "source": [
    "### 3. Nombre de transactions"
   ]
  },
  {
   "cell_type": "code",
   "execution_count": 6,
   "id": "d27c307b",
   "metadata": {
    "id": "d27c307b",
    "outputId": "0182efbf-048e-42aa-81f0-2868013fb19c",
    "scrolled": false
   },
   "outputs": [
    {
     "name": "stdout",
     "output_type": "stream",
     "text": [
      "le nombre de transactions dans les données est 26196\n",
      "le nombre de transactions pour les appartements dans les données est 24353\n",
      "le nombre de transactions pour les locaux commerciaux dans les données est 1843\n"
     ]
    }
   ],
   "source": [
    "#On verifie le nombre de transactions que nous avons dans notre dataframe\n",
    "print('le nombre de transactions dans les données est '+ str(np.shape(df_historique)[0]))\n",
    "print('le nombre de transactions pour les appartements dans les données est '+ str(np.shape(df_historique.loc[df_historique['code_type_local']==2])[0]))\n",
    "print('le nombre de transactions pour les locaux commerciaux dans les données est '+ str(np.shape(df_historique.loc[df_historique['code_type_local']==4])[0]))\n"
   ]
  },
  {
   "cell_type": "code",
   "execution_count": 7,
   "id": "9cd1560f",
   "metadata": {
    "id": "9cd1560f",
    "outputId": "207da9c4-a66e-4842-eb17-c4b9b1211471"
   },
   "outputs": [
    {
     "name": "stdout",
     "output_type": "stream",
     "text": [
      "Nombre de transactions pour le type de bien 2 : 24353\n",
      "Nombre de transactions pour le type de bien 4 : 1843\n",
      "Nombre total de transactions : 26196\n"
     ]
    }
   ],
   "source": [
    "for type_local in df_historique[\"code_type_local\"].unique():\n",
    "    print(f\"Nombre de transactions pour le type de bien {type_local} :\", len(df_historique[df_historique[\"code_type_local\"] == type_local]))\n",
    "print(\"Nombre total de transactions :\", len(df_historique))"
   ]
  },
  {
   "cell_type": "markdown",
   "id": "4601fdac",
   "metadata": {
    "id": "4601fdac"
   },
   "source": [
    "### 4. interval de l'historique des données"
   ]
  },
  {
   "cell_type": "code",
   "execution_count": 8,
   "id": "023ef741",
   "metadata": {
    "id": "023ef741",
    "outputId": "fdb0e754-b7d7-404b-9ca5-838755f17434"
   },
   "outputs": [
    {
     "name": "stdout",
     "output_type": "stream",
     "text": [
      "la première date de transaction dans les données est le ? 2017-01-02 00:00:00\n",
      "la dernière date de transaction dans les données est le ? 2021-12-31 00:00:00\n"
     ]
    }
   ],
   "source": [
    "#On vérifie également la plage de l'historique disponible\n",
    "print('la première date de transaction dans les données est le ?',df_historique.date_mutation.min())\n",
    "print('la dernière date de transaction dans les données est le ?',df_historique.date_mutation.max())\n",
    "\n"
   ]
  },
  {
   "cell_type": "markdown",
   "id": "92964843",
   "metadata": {
    "id": "92964843"
   },
   "source": [
    "## Commençons à analyser les données"
   ]
  },
  {
   "cell_type": "markdown",
   "id": "ae74642d",
   "metadata": {
    "id": "ae74642d"
   },
   "source": [
    "Maintenant nous allons analyser les données historiques pour les 2 différents types de biens immobiliers en essayant d'identifier les relations entre les variables. Mais avant cela, il nous faudra pouvoir comparer les biens entre eux, et pour cela nous allons créer une colonne du prix au metre carré."
   ]
  },
  {
   "cell_type": "code",
   "execution_count": 9,
   "id": "82f80008",
   "metadata": {
    "id": "82f80008"
   },
   "outputs": [],
   "source": [
    "# Calcul de la colonne\n",
    "df_historique['prix_m2'] = df_historique.valeur_fonciere/df_historique.surface_reelle\n",
    "df_historique['commun_number'] = df_historique['nom_commune'].str.extract('(\\d+)')"
   ]
  },
  {
   "cell_type": "code",
   "execution_count": 10,
   "id": "933c010b",
   "metadata": {
    "id": "933c010b",
    "outputId": "b0857886-e664-4cc4-d8a4-2ee4caa834e8"
   },
   "outputs": [
    {
     "data": {
      "text/plain": [
       "<Axes: title={'center': 'prix_m2'}, xlabel='commun_number'>"
      ]
     },
     "execution_count": 10,
     "metadata": {},
     "output_type": "execute_result"
    },
    {
     "data": {
      "image/png": "[encoded data removed]",
      "text/plain": [
       "<Figure size 2500x1000 with 1 Axes>"
      ]
     },
     "metadata": {},
     "output_type": "display_data"
    }
   ],
   "source": [
    "df_historique.boxplot(\"prix_m2\", by=(\"commun_number\"),figsize=(25,10))"
   ]
  },
  {
   "cell_type": "markdown",
   "id": "1b08d5b8",
   "metadata": {
    "id": "1b08d5b8"
   },
   "source": [
    "Maintenant, analysons les appartements."
   ]
  },
  {
   "cell_type": "markdown",
   "id": "e52299e8",
   "metadata": {
    "id": "e52299e8"
   },
   "source": [
    "### 5. Evolution du prix au metre carré des appartements dans Paris"
   ]
  },
  {
   "cell_type": "code",
   "execution_count": 86,
   "id": "706a3f1e",
   "metadata": {
    "id": "706a3f1e"
   },
   "outputs": [],
   "source": [
    "#On retire les colonnes qui sont à priori inutiles ET nous allons nous concentrer sur les appartements dans un premier temps\n",
    "df_appartements = df_historique[df_historique[\"code_type_local\"] == 2]\n",
    "df_appartements['annee'] = df_appartements['date_mutation'].dt.year\n",
    "\n",
    "# Check if 'prix_m2' exists in the DataFrame\n",
    "if 'prix_m2' in df_appartements.columns:\n",
    "    # Prepare a DataFrame by grouping the average sales prices of apartments per year with the associated average surface\n",
    "    df_appartements_pivot = df_appartements.pivot_table(index=\"annee\",\n",
    "                                                        values=[\"prix_m2\", \"surface_reelle\"],\n",
    "                                                        aggfunc=np.mean)\n",
    "    df_appartements_pivot.columns = [\"prix_moyen\", \"surface_moyen\"]\n",
    "\n",
    "    df_appartements_pivot"
   ]
  },
  {
   "cell_type": "markdown",
   "id": "cb200fe8",
   "metadata": {
    "id": "cb200fe8"
   },
   "source": [
    "On constate sur la moyenne des prix de vente des appartements à Paris que ? <br>\n",
    "Nous allons créer un graphique pour mieux le visualiser."
   ]
  },
  {
   "cell_type": "code",
   "execution_count": 12,
   "id": "0e145735",
   "metadata": {
    "id": "0e145735",
    "outputId": "97d57559-f06c-4a0e-f645-c97bcad9d766"
   },
   "outputs": [
    {
     "data": {
      "image/png": "[encoded data removed]",
      "text/plain": [
       "<Figure size 1000x600 with 1 Axes>"
      ]
     },
     "metadata": {},
     "output_type": "display_data"
    }
   ],
   "source": [
    "\n",
    "# Création du graphique\n",
    "import matplotlib.pyplot as plt\n",
    "import matplotlib.ticker as ticker\n",
    "plt.figure(figsize=(10, 6))\n",
    "plt.plot(df_appartements_pivot.index, df_appartements_pivot[\"prix_moyen\"], marker='o')\n",
    "plt.title('Évolution moyenne des prix de vente des appartements à Paris par année')\n",
    "plt.xlabel('Année')\n",
    "plt.ylabel('Prix moyen de vente (en euros/m²)')\n",
    "plt.grid(True)\n",
    "\n",
    "# Modification de l'axe x en entiers\n",
    "plt.xticks(df_appartements_pivot.index.astype(int))\n",
    "\n",
    "plt.show()"
   ]
  },
  {
   "cell_type": "markdown",
   "id": "452fe405",
   "metadata": {
    "id": "452fe405"
   },
   "source": [
    "### 6. Différences de prix au metre carré entre les arrondissements"
   ]
  },
  {
   "cell_type": "markdown",
   "id": "d4415dbb",
   "metadata": {
    "id": "d4415dbb"
   },
   "source": [
    "Maintenant nous allons chercher à afficher l'évolution des prix par arrondissement. Vérifions la liste des arrondissements que nous avons dans nos données. Normalement à Paris nous avons 20 codes postaux différents, 1 par arrondissement allant de 75001 à 75020."
   ]
  },
  {
   "cell_type": "code",
   "execution_count": 13,
   "id": "a855fc89",
   "metadata": {
    "id": "a855fc89",
    "outputId": "d5711d0c-06ae-413c-fce9-a88ef17d42ef"
   },
   "outputs": [
    {
     "name": "stdout",
     "output_type": "stream",
     "text": [
      "Voici la liste des codes postaux présents dans nos donées :\n"
     ]
    },
    {
     "data": {
      "text/html": [
       "<div>\n",
       "<style scoped>\n",
       "    .dataframe tbody tr th:only-of-type {\n",
       "        vertical-align: middle;\n",
       "    }\n",
       "\n",
       "    .dataframe tbody tr th {\n",
       "        vertical-align: top;\n",
       "    }\n",
       "\n",
       "    .dataframe thead th {\n",
       "        text-align: right;\n",
       "    }\n",
       "</style>\n",
       "<table border=\"1\" class=\"dataframe\">\n",
       "  <thead>\n",
       "    <tr style=\"text-align: right;\">\n",
       "      <th></th>\n",
       "      <th>code_postal</th>\n",
       "    </tr>\n",
       "  </thead>\n",
       "  <tbody>\n",
       "    <tr>\n",
       "      <th>0</th>\n",
       "      <td>75003</td>\n",
       "    </tr>\n",
       "    <tr>\n",
       "      <th>1</th>\n",
       "      <td>75008</td>\n",
       "    </tr>\n",
       "    <tr>\n",
       "      <th>4</th>\n",
       "      <td>75001</td>\n",
       "    </tr>\n",
       "    <tr>\n",
       "      <th>478</th>\n",
       "      <td>75006</td>\n",
       "    </tr>\n",
       "    <tr>\n",
       "      <th>479</th>\n",
       "      <td>75005</td>\n",
       "    </tr>\n",
       "    <tr>\n",
       "      <th>483</th>\n",
       "      <td>75007</td>\n",
       "    </tr>\n",
       "    <tr>\n",
       "      <th>1072</th>\n",
       "      <td>75010</td>\n",
       "    </tr>\n",
       "    <tr>\n",
       "      <th>1074</th>\n",
       "      <td>75009</td>\n",
       "    </tr>\n",
       "    <tr>\n",
       "      <th>1579</th>\n",
       "      <td>75011</td>\n",
       "    </tr>\n",
       "    <tr>\n",
       "      <th>1581</th>\n",
       "      <td>75012</td>\n",
       "    </tr>\n",
       "    <tr>\n",
       "      <th>2287</th>\n",
       "      <td>75013</td>\n",
       "    </tr>\n",
       "    <tr>\n",
       "      <th>2469</th>\n",
       "      <td>75014</td>\n",
       "    </tr>\n",
       "    <tr>\n",
       "      <th>2762</th>\n",
       "      <td>75015</td>\n",
       "    </tr>\n",
       "    <tr>\n",
       "      <th>3281</th>\n",
       "      <td>75016</td>\n",
       "    </tr>\n",
       "    <tr>\n",
       "      <th>3729</th>\n",
       "      <td>75017</td>\n",
       "    </tr>\n",
       "    <tr>\n",
       "      <th>4210</th>\n",
       "      <td>75018</td>\n",
       "    </tr>\n",
       "    <tr>\n",
       "      <th>4781</th>\n",
       "      <td>75020</td>\n",
       "    </tr>\n",
       "    <tr>\n",
       "      <th>4783</th>\n",
       "      <td>75019</td>\n",
       "    </tr>\n",
       "    <tr>\n",
       "      <th>5302</th>\n",
       "      <td>75004</td>\n",
       "    </tr>\n",
       "    <tr>\n",
       "      <th>5303</th>\n",
       "      <td>75002</td>\n",
       "    </tr>\n",
       "  </tbody>\n",
       "</table>\n",
       "</div>"
      ],
      "text/plain": [
       "      code_postal\n",
       "0           75003\n",
       "1           75008\n",
       "4           75001\n",
       "478         75006\n",
       "479         75005\n",
       "483         75007\n",
       "1072        75010\n",
       "1074        75009\n",
       "1579        75011\n",
       "1581        75012\n",
       "2287        75013\n",
       "2469        75014\n",
       "2762        75015\n",
       "3281        75016\n",
       "3729        75017\n",
       "4210        75018\n",
       "4781        75020\n",
       "4783        75019\n",
       "5302        75004\n",
       "5303        75002"
      ]
     },
     "execution_count": 13,
     "metadata": {},
     "output_type": "execute_result"
    }
   ],
   "source": [
    "#Liste des codes postaux dans nos donées\n",
    "\n",
    "df_appartements = df_historique[df_historique[\"code_type_local\"] == 2]\n",
    "print(\"Voici la liste des codes postaux présents dans nos donées :\")\n",
    "df_appartements[['code_postal']].drop_duplicates()"
   ]
  },
  {
   "cell_type": "code",
   "execution_count": 14,
   "id": "796dbc8c",
   "metadata": {
    "id": "796dbc8c",
    "outputId": "d8b92e4d-161b-45cb-bc9a-588e63c2f65d"
   },
   "outputs": [
    {
     "name": "stdout",
     "output_type": "stream",
     "text": [
      "                       valeur_fonciere  surface_reelle       prix_m2\n",
      "code_postal date_year                                               \n",
      "75001       2017         530392.410096       45.241379  11762.706289\n",
      "            2018         581390.365711       46.010204  12621.226146\n",
      "            2019         454606.244889       34.307692  13269.256149\n",
      "            2020         601204.893337       44.871429  13405.991820\n",
      "            2021         639321.076138       47.777778  13379.498578\n",
      "...                                ...             ...           ...\n",
      "75020       2017         313979.407024       39.777070   7886.023336\n",
      "            2018         316909.306323       37.337461   8485.162808\n",
      "            2019         322005.372655       35.376093   9093.992492\n",
      "            2020         316868.857795       33.937729   9329.305302\n",
      "            2021         340528.706134       37.385455   9114.398249\n",
      "\n",
      "[100 rows x 3 columns]\n"
     ]
    }
   ],
   "source": [
    "\n",
    "\n",
    "df_bydistrict = df_appartements[['date_mutation', 'valeur_fonciere', 'code_postal', 'surface_reelle', 'prix_m2']]\n",
    "df_bydistrict['date_mutation'] = pd.to_datetime(df_bydistrict['date_mutation']).dt.year\n",
    "df_bydistrict.rename(columns={\"date_mutation\": \"date_year\"}, inplace=True)\n",
    "df_bydistrict = df_bydistrict.groupby(['code_postal', 'date_year']).mean()\n",
    "\n",
    "print(df_bydistrict)\n",
    "\n"
   ]
  },
  {
   "cell_type": "code",
   "execution_count": 15,
   "id": "4eeb6acb",
   "metadata": {
    "id": "4eeb6acb",
    "outputId": "21b3ea9f-5159-4988-ec18-df5e50d9870b"
   },
   "outputs": [
    {
     "data": {
      "image/png": "[encoded data removed]",
      "text/plain": [
       "<Figure size 500x500 with 1 Axes>"
      ]
     },
     "metadata": {},
     "output_type": "display_data"
    }
   ],
   "source": [
    "\n",
    "\n",
    "# Données de l'évolution du prix au mètre carré dans le premier arrondissement\n",
    "\n",
    "plt.figure(figsize=(5, 5))\n",
    "plt.plot(['2017', '2018', '2019', '2020', '2021'], df_bydistrict.loc[75001, 'prix_m2'], 'o-', color='red')\n",
    "plt.xlabel(\"Années de vente des appartements dans l'arrondissement 75001\")\n",
    "plt.ylabel(\"Montant moyen de vente des appartements (€/m²)\")\n",
    "formatter = ticker.FormatStrFormatter('€%d')\n",
    "plt.gca().yaxis.set_major_formatter(formatter)\n",
    "plt.grid()\n",
    "plt.title('Évolution du prix au m² dans le premier arrondissement')\n",
    "plt.show()\n",
    "\n"
   ]
  },
  {
   "cell_type": "code",
   "execution_count": 16,
   "id": "09bd084b",
   "metadata": {
    "id": "09bd084b",
    "outputId": "9bbb3598-9013-4014-a7bc-2babccc3950c"
   },
   "outputs": [
    {
     "data": {
      "image/png": "[encoded data removed]",
      "text/plain": [
       "<Figure size 1500x1500 with 1 Axes>"
      ]
     },
     "metadata": {},
     "output_type": "display_data"
    }
   ],
   "source": [
    "#On affiche l'évolution du prix au m² par arrondissement dans Paris\n",
    "df_evolution2=df_bydistrict.reset_index()\n",
    "plt.figure(figsize=(15,15))\n",
    "année=['2017','2018','2019','2020','2021']\n",
    "plt.plot(année,df_evolution2.loc[df_evolution2['code_postal']==75001]['prix_m2'], color='red',label='75001')\n",
    "plt.plot(année,df_evolution2.loc[df_evolution2['code_postal']==75002]['prix_m2'], color='orange',label='75002')\n",
    "plt.plot(année,df_evolution2.loc[df_evolution2['code_postal']==75003]['prix_m2'], color='yellow',label='75003')\n",
    "plt.plot(année,df_evolution2.loc[df_evolution2['code_postal']==75004]['prix_m2'], color='green',label='75004')\n",
    "plt.plot(année,df_evolution2.loc[df_evolution2['code_postal']==75005]['prix_m2'], color='cyan',label='75005')\n",
    "plt.plot(année,df_evolution2.loc[df_evolution2['code_postal']==75006]['prix_m2'], color='blue',label='75006')\n",
    "plt.plot(année,df_evolution2.loc[df_evolution2['code_postal']==75007]['prix_m2'], color='magenta',label='75007')\n",
    "plt.plot(année,df_evolution2.loc[df_evolution2['code_postal']==75008]['prix_m2'], color='purple',label='75008')\n",
    "plt.plot(année,df_evolution2.loc[df_evolution2['code_postal']==75009]['prix_m2'], color='black',label='75009')\n",
    "plt.plot(année,df_evolution2.loc[df_evolution2['code_postal']==75010]['prix_m2'], color='gray',label='75010')\n",
    "plt.plot(année,df_evolution2.loc[df_evolution2['code_postal']==75011]['prix_m2'], color='silver',label='75011')\n",
    "plt.plot(année,df_evolution2.loc[df_evolution2['code_postal']==75012]['prix_m2'], color='pink',label='75012')\n",
    "plt.plot(année,df_evolution2.loc[df_evolution2['code_postal']==75013]['prix_m2'], color='maroon',label='75013')\n",
    "plt.plot(année,df_evolution2.loc[df_evolution2['code_postal']==75014]['prix_m2'], color='brown',label='75014')\n",
    "plt.plot(année,df_evolution2.loc[df_evolution2['code_postal']==75015]['prix_m2'], color='beige',label='75015')\n",
    "plt.plot(année,df_evolution2.loc[df_evolution2['code_postal']==75016]['prix_m2'], color='tan',label='75016')\n",
    "plt.plot(année,df_evolution2.loc[df_evolution2['code_postal']==75017]['prix_m2'], color='violet',label='75017')\n",
    "plt.plot(année,df_evolution2.loc[df_evolution2['code_postal']==75018]['prix_m2'], color='lime',label='75018')\n",
    "plt.plot(année,df_evolution2.loc[df_evolution2['code_postal']==75019]['prix_m2'], color='olive',label='75019')\n",
    "plt.plot(année,df_evolution2.loc[df_evolution2['code_postal']==75020]['prix_m2'], color='teal',label='75020')\n",
    "plt.xlabel('Années de vente des appartements')\n",
    "plt.ylabel('Montant moyen de vente des appartements')\n",
    "formatter = ticker.FormatStrFormatter('%d€')\n",
    "plt.gca().yaxis.set_major_formatter(formatter)\n",
    "plt.grid()\n",
    "plt.title('Evolution du prix au m² dans les 20 arrondissements')\n",
    "plt.legend(loc='upper left')\n",
    "plt.show()"
   ]
  },
  {
   "cell_type": "markdown",
   "id": "876fd6f0",
   "metadata": {
    "id": "876fd6f0"
   },
   "source": [
    "Nous allons ajouter à cette visualisation tous les autres arrondissement avec une couleur différente."
   ]
  },
  {
   "cell_type": "markdown",
   "id": "4a87ed50",
   "metadata": {
    "id": "4a87ed50"
   },
   "source": [
    "On observe que globalement que ?\n",
    "\n",
    "Globalement, on observe que les prix de l'immobilier à Paris ont augmenté de manière significative au cours des six dernières années. En 2017, le prix moyen du mètre carré à Paris était de 8 000 euros. En 2021, il est de 10 000 euros. Cette augmentation est due à plusieurs facteurs, notamment la forte demande d'immobilier à Paris, l'augmentation des taux d'intérêt et la baisse de l'offre."
   ]
  },
  {
   "cell_type": "markdown",
   "id": "20631df9",
   "metadata": {
    "id": "20631df9"
   },
   "source": [
    "### 7. Prix au metre carré par transaction dans un arrondissement"
   ]
  },
  {
   "cell_type": "code",
   "execution_count": 85,
   "id": "066de112",
   "metadata": {
    "id": "066de112",
    "outputId": "f386bb53-5426-49f1-9f39-5e5b28fc1dcf",
    "scrolled": true
   },
   "outputs": [
    {
     "data": {
      "image/png": "[encoded data removed]",
      "text/plain": [
       "<Figure size 1000x300 with 1 Axes>"
      ]
     },
     "metadata": {},
     "output_type": "display_data"
    }
   ],
   "source": [
    "\n",
    "\n",
    "\n",
    "\n",
    "import matplotlib.pyplot as plt\n",
    "import matplotlib.ticker as ticker\n",
    "\n",
    "cp = 75006\n",
    "\n",
    "plt.figure(figsize=(10, 3))\n",
    "\n",
    "plt.scatter(df_appartements.loc[df_appartements['code_postal'] == cp]['date_mutation'], df_appartements.loc[df_appartements['code_postal'] == cp]['prix_m2'])\n",
    "\n",
    "# Correction de la syntaxe\n",
    "plt.xlabel(\"\"\"Date de vente des appartements dans\n",
    "l'arrondissement 75006\"\"\")\n",
    "\n",
    "formatter = ticker.FormatStrFormatter('€%d')\n",
    "plt.gca().yaxis.set_major_formatter(formatter)\n",
    "plt.ylim(12000, 14520)\n",
    "plt.grid(which='both')\n",
    "plt.title('Historique des transactions dans le sixième arrondissement')\n",
    "plt.show()\n",
    "\n",
    "\n"
   ]
  },
  {
   "cell_type": "markdown",
   "id": "16586dcf",
   "metadata": {
    "id": "16586dcf"
   },
   "source": [
    "On constate que ?\n",
    "\n",
    "Affichons l'historique des transactions pour visualiser la dispersion des données :"
   ]
  },
  {
   "cell_type": "code",
   "execution_count": 18,
   "id": "5da39cb8",
   "metadata": {
    "id": "5da39cb8",
    "outputId": "153d97ed-836e-4371-8f14-c20ca1085d0c"
   },
   "outputs": [
    {
     "data": {
      "text/html": [
       "<div>\n",
       "<style scoped>\n",
       "    .dataframe tbody tr th:only-of-type {\n",
       "        vertical-align: middle;\n",
       "    }\n",
       "\n",
       "    .dataframe tbody tr th {\n",
       "        vertical-align: top;\n",
       "    }\n",
       "\n",
       "    .dataframe thead th {\n",
       "        text-align: right;\n",
       "    }\n",
       "</style>\n",
       "<table border=\"1\" class=\"dataframe\">\n",
       "  <thead>\n",
       "    <tr style=\"text-align: right;\">\n",
       "      <th></th>\n",
       "      <th>date_mutation</th>\n",
       "      <th>valeur_fonciere</th>\n",
       "      <th>adresse_numero</th>\n",
       "      <th>adresse_nom_voie</th>\n",
       "      <th>code_postal</th>\n",
       "      <th>nom_commune</th>\n",
       "      <th>code_type_local</th>\n",
       "      <th>type_local</th>\n",
       "      <th>surface_reelle</th>\n",
       "      <th>prix_m2</th>\n",
       "      <th>commun_number</th>\n",
       "    </tr>\n",
       "  </thead>\n",
       "  <tbody>\n",
       "    <tr>\n",
       "      <th>0</th>\n",
       "      <td>2017-01-03</td>\n",
       "      <td>5.505597e+05</td>\n",
       "      <td>8</td>\n",
       "      <td>RUE DES COUTURES SAINT GERVAIS</td>\n",
       "      <td>75003</td>\n",
       "      <td>Paris 3e Arrondissement</td>\n",
       "      <td>2</td>\n",
       "      <td>Appartement</td>\n",
       "      <td>50</td>\n",
       "      <td>11011.193562</td>\n",
       "      <td>3</td>\n",
       "    </tr>\n",
       "    <tr>\n",
       "      <th>1</th>\n",
       "      <td>2017-01-12</td>\n",
       "      <td>1.576492e+06</td>\n",
       "      <td>32</td>\n",
       "      <td>AV MARCEAU</td>\n",
       "      <td>75008</td>\n",
       "      <td>Paris 8e Arrondissement</td>\n",
       "      <td>2</td>\n",
       "      <td>Appartement</td>\n",
       "      <td>163</td>\n",
       "      <td>9671.732877</td>\n",
       "      <td>8</td>\n",
       "    </tr>\n",
       "    <tr>\n",
       "      <th>2</th>\n",
       "      <td>2017-01-10</td>\n",
       "      <td>6.577574e+05</td>\n",
       "      <td>52</td>\n",
       "      <td>RUE DU FAUBOURG SAINT HONORE</td>\n",
       "      <td>75008</td>\n",
       "      <td>Paris 8e Arrondissement</td>\n",
       "      <td>2</td>\n",
       "      <td>Appartement</td>\n",
       "      <td>66</td>\n",
       "      <td>9966.020548</td>\n",
       "      <td>8</td>\n",
       "    </tr>\n",
       "    <tr>\n",
       "      <th>3</th>\n",
       "      <td>2017-01-10</td>\n",
       "      <td>2.500868e+05</td>\n",
       "      <td>64</td>\n",
       "      <td>RUE DU VERTBOIS</td>\n",
       "      <td>75003</td>\n",
       "      <td>Paris 3e Arrondissement</td>\n",
       "      <td>2</td>\n",
       "      <td>Appartement</td>\n",
       "      <td>22</td>\n",
       "      <td>11367.582877</td>\n",
       "      <td>3</td>\n",
       "    </tr>\n",
       "    <tr>\n",
       "      <th>4</th>\n",
       "      <td>2017-01-13</td>\n",
       "      <td>1.762667e+05</td>\n",
       "      <td>25</td>\n",
       "      <td>RUE DES LAVANDIERES STE OPPORT</td>\n",
       "      <td>75001</td>\n",
       "      <td>Paris 1er Arrondissement</td>\n",
       "      <td>2</td>\n",
       "      <td>Appartement</td>\n",
       "      <td>15</td>\n",
       "      <td>11751.113836</td>\n",
       "      <td>1</td>\n",
       "    </tr>\n",
       "  </tbody>\n",
       "</table>\n",
       "</div>"
      ],
      "text/plain": [
       "  date_mutation  valeur_fonciere  adresse_numero  \\\n",
       "0    2017-01-03     5.505597e+05               8   \n",
       "1    2017-01-12     1.576492e+06              32   \n",
       "2    2017-01-10     6.577574e+05              52   \n",
       "3    2017-01-10     2.500868e+05              64   \n",
       "4    2017-01-13     1.762667e+05              25   \n",
       "\n",
       "                 adresse_nom_voie  code_postal               nom_commune  \\\n",
       "0  RUE DES COUTURES SAINT GERVAIS        75003   Paris 3e Arrondissement   \n",
       "1                      AV MARCEAU        75008   Paris 8e Arrondissement   \n",
       "2    RUE DU FAUBOURG SAINT HONORE        75008   Paris 8e Arrondissement   \n",
       "3                 RUE DU VERTBOIS        75003   Paris 3e Arrondissement   \n",
       "4  RUE DES LAVANDIERES STE OPPORT        75001  Paris 1er Arrondissement   \n",
       "\n",
       "   code_type_local   type_local  surface_reelle       prix_m2 commun_number  \n",
       "0                2  Appartement              50  11011.193562             3  \n",
       "1                2  Appartement             163   9671.732877             8  \n",
       "2                2  Appartement              66   9966.020548             8  \n",
       "3                2  Appartement              22  11367.582877             3  \n",
       "4                2  Appartement              15  11751.113836             1  "
      ]
     },
     "execution_count": 18,
     "metadata": {},
     "output_type": "execute_result"
    }
   ],
   "source": [
    "#Dataframe uniquement sur les appartements\n",
    "df_appartement = df_appartements[df_appartements['type_local']==\"Appartement\"]\n",
    "df_appartement.head()"
   ]
  },
  {
   "cell_type": "markdown",
   "id": "3a4245f6",
   "metadata": {
    "id": "3a4245f6"
   },
   "source": [
    "On observe que ?\n",
    "\n",
    "Pour nous rassurer sur la relation entre les données nous allons utiliser un test statistique de corrélation."
   ]
  },
  {
   "cell_type": "markdown",
   "id": "61988c31",
   "metadata": {
    "id": "61988c31"
   },
   "source": [
    "### 8. Vérification de la relation entre le prix au m² et la date dans le 6ème arrondissement par le calcul du coefficient de corrélation de Pearson"
   ]
  },
  {
   "cell_type": "markdown",
   "id": "9c715d9c",
   "metadata": {
    "id": "9c715d9c"
   },
   "source": [
    "Pour cette distribution nous allons calculer le coefficient de corrélation de Pearson. La relation entre le prix au metre carré et la date n'est pas forcément linéaire mais elle s'en rapproche suffisamment pour que cette analyse soit pertinente (voir l'évolution du prix au metre carré globale montrée plus haut, on a presque une droite sauf entre 2020 et 2021). Ce qui nous interesse c'est de prouver que le temps a une influence sur le prix."
   ]
  },
  {
   "cell_type": "code",
   "execution_count": 19,
   "id": "d39625a6",
   "metadata": {
    "id": "d39625a6",
    "outputId": "512f475a-34cd-49fc-c72f-7ca2d37a5d98"
   },
   "outputs": [
    {
     "name": "stdout",
     "output_type": "stream",
     "text": [
      "Le coefficient de corrélation de Pearson entre le prix au m² et la date : 0.9038446031491487\n",
      "et le est p_value :  7.108378962550974e-263\n"
     ]
    }
   ],
   "source": [
    "from scipy.stats import pearsonr\n",
    "coefficient_corr, p_value = pearsonr((df_appartements.loc[df_appartements['code_postal']==cp]['date_mutation'].astype('int64'))\n",
    "                ,df_appartements.loc[df_appartements['code_postal']==cp]['prix_m2'])\n",
    "print(\"Le coefficient de corrélation de Pearson entre le prix au m² et la date :\", coefficient_corr)\n",
    "print(\"et le est p_value : \", p_value)"
   ]
  },
  {
   "cell_type": "markdown",
   "id": "82a5fbab",
   "metadata": {
    "id": "82a5fbab"
   },
   "source": [
    "Le coefficient de corrélation est de ? avec une pvalue de ? donc nous pouvons confirmer la corrélation.\n",
    "Le coefficient de corrélation est de 0,90 avec une p-value de 7,108378962550974e-263."
   ]
  },
  {
   "cell_type": "markdown",
   "id": "8d3978f5",
   "metadata": {
    "id": "8d3978f5"
   },
   "source": [
    "### 9. Vérification de la relation entre la valeur fonciere et la surface"
   ]
  },
  {
   "cell_type": "code",
   "execution_count": 20,
   "id": "1c505f61",
   "metadata": {
    "id": "1c505f61",
    "outputId": "8ee4cb82-7cad-4cf3-946d-1a9aad41e912"
   },
   "outputs": [
    {
     "name": "stdout",
     "output_type": "stream",
     "text": [
      "Le coefficient de corrélation de Pearson entre la valeur foncière et la surface : 0.9977572898250283\n",
      "et le est p_value :  0.0\n"
     ]
    }
   ],
   "source": [
    "\n",
    "coefficient_corr, p_value = pearsonr(\n",
    "    df_appartements.loc[df_appartements['code_postal'] == cp]['valeur_fonciere'],\n",
    "    df_appartements.loc[df_appartements['code_postal'] == cp]['surface_reelle'],\n",
    ")\n",
    "print(\"Le coefficient de corrélation de Pearson entre la valeur foncière et la surface :\", coefficient_corr)\n",
    "print(\"et le est p_value : \", p_value)"
   ]
  },
  {
   "cell_type": "markdown",
   "id": "d428ff7e",
   "metadata": {
    "id": "d428ff7e"
   },
   "source": [
    "Le coefficient de corrélation est de ? avec une pvalue de ?. La relation est donc confirmée."
   ]
  },
  {
   "cell_type": "markdown",
   "id": "35a150eb",
   "metadata": {
    "id": "35a150eb"
   },
   "source": [
    "Regardons maintenant si le type de bien à une influence sur le prix au metre carré également."
   ]
  },
  {
   "cell_type": "markdown",
   "id": "ee061e7d",
   "metadata": {
    "id": "ee061e7d"
   },
   "source": [
    "### 10. Analyse des locaux industriels, commerciaux et assimilés"
   ]
  },
  {
   "cell_type": "code",
   "execution_count": 21,
   "id": "749dea24",
   "metadata": {
    "id": "749dea24",
    "outputId": "1ee5a3ec-b1e4-4769-f661-6cea1904e3ec"
   },
   "outputs": [
    {
     "data": {
      "text/html": [
       "<div>\n",
       "<style scoped>\n",
       "    .dataframe tbody tr th:only-of-type {\n",
       "        vertical-align: middle;\n",
       "    }\n",
       "\n",
       "    .dataframe tbody tr th {\n",
       "        vertical-align: top;\n",
       "    }\n",
       "\n",
       "    .dataframe thead th {\n",
       "        text-align: right;\n",
       "    }\n",
       "</style>\n",
       "<table border=\"1\" class=\"dataframe\">\n",
       "  <thead>\n",
       "    <tr style=\"text-align: right;\">\n",
       "      <th></th>\n",
       "      <th>date_mutation</th>\n",
       "      <th>valeur_fonciere</th>\n",
       "      <th>code_postal</th>\n",
       "      <th>code_type_local</th>\n",
       "      <th>type_local</th>\n",
       "      <th>surface_reelle</th>\n",
       "      <th>prix_m2</th>\n",
       "      <th>commun_number</th>\n",
       "    </tr>\n",
       "  </thead>\n",
       "  <tbody>\n",
       "    <tr>\n",
       "      <th>18</th>\n",
       "      <td>2017-02-01</td>\n",
       "      <td>3.113277e+06</td>\n",
       "      <td>75003</td>\n",
       "      <td>4</td>\n",
       "      <td>Local industriel. commercial ou assimilé</td>\n",
       "      <td>250</td>\n",
       "      <td>12453.109192</td>\n",
       "      <td>3</td>\n",
       "    </tr>\n",
       "    <tr>\n",
       "      <th>29</th>\n",
       "      <td>2017-02-17</td>\n",
       "      <td>1.164375e+06</td>\n",
       "      <td>75003</td>\n",
       "      <td>4</td>\n",
       "      <td>Local industriel. commercial ou assimilé</td>\n",
       "      <td>95</td>\n",
       "      <td>12256.581685</td>\n",
       "      <td>3</td>\n",
       "    </tr>\n",
       "    <tr>\n",
       "      <th>34</th>\n",
       "      <td>2017-02-20</td>\n",
       "      <td>3.802522e+05</td>\n",
       "      <td>75003</td>\n",
       "      <td>4</td>\n",
       "      <td>Local industriel. commercial ou assimilé</td>\n",
       "      <td>31</td>\n",
       "      <td>12266.199603</td>\n",
       "      <td>3</td>\n",
       "    </tr>\n",
       "    <tr>\n",
       "      <th>91</th>\n",
       "      <td>2017-03-09</td>\n",
       "      <td>3.623842e+05</td>\n",
       "      <td>75001</td>\n",
       "      <td>4</td>\n",
       "      <td>Local industriel. commercial ou assimilé</td>\n",
       "      <td>29</td>\n",
       "      <td>12496.006027</td>\n",
       "      <td>1</td>\n",
       "    </tr>\n",
       "    <tr>\n",
       "      <th>109</th>\n",
       "      <td>2017-03-29</td>\n",
       "      <td>3.159072e+05</td>\n",
       "      <td>75003</td>\n",
       "      <td>4</td>\n",
       "      <td>Local industriel. commercial ou assimilé</td>\n",
       "      <td>25</td>\n",
       "      <td>12636.289027</td>\n",
       "      <td>3</td>\n",
       "    </tr>\n",
       "  </tbody>\n",
       "</table>\n",
       "</div>"
      ],
      "text/plain": [
       "    date_mutation  valeur_fonciere  code_postal  code_type_local  \\\n",
       "18     2017-02-01     3.113277e+06        75003                4   \n",
       "29     2017-02-17     1.164375e+06        75003                4   \n",
       "34     2017-02-20     3.802522e+05        75003                4   \n",
       "91     2017-03-09     3.623842e+05        75001                4   \n",
       "109    2017-03-29     3.159072e+05        75003                4   \n",
       "\n",
       "                                   type_local  surface_reelle       prix_m2  \\\n",
       "18   Local industriel. commercial ou assimilé             250  12453.109192   \n",
       "29   Local industriel. commercial ou assimilé              95  12256.581685   \n",
       "34   Local industriel. commercial ou assimilé              31  12266.199603   \n",
       "91   Local industriel. commercial ou assimilé              29  12496.006027   \n",
       "109  Local industriel. commercial ou assimilé              25  12636.289027   \n",
       "\n",
       "    commun_number  \n",
       "18              3  \n",
       "29              3  \n",
       "34              3  \n",
       "91              1  \n",
       "109             3  "
      ]
     },
     "execution_count": 21,
     "metadata": {},
     "output_type": "execute_result"
    }
   ],
   "source": [
    "# On crée un dataset qui ne contient que les locaux commerciaux\n",
    "df_historique_locaux=df_historique.drop(columns=['adresse_numero','adresse_nom_voie','nom_commune'])[df_historique['code_type_local']==4]\n",
    "df_historique_locaux.head()"
   ]
  },
  {
   "cell_type": "code",
   "execution_count": 22,
   "id": "f5fa11d8",
   "metadata": {
    "id": "f5fa11d8",
    "outputId": "e984cf8d-43a7-41b8-e8ce-896cbd0c22d6"
   },
   "outputs": [
    {
     "name": "stdout",
     "output_type": "stream",
     "text": [
      "               prix_m2_moyen\n",
      "date_mutation               \n",
      "2017             9492.859195\n",
      "2018            10031.403432\n",
      "2019            10562.712581\n",
      "2020            10674.872650\n",
      "2021            10455.600126\n",
      "               prix_m2_moyen\n",
      "date_mutation               \n",
      "2017            10949.909217\n",
      "2018            11569.499180\n",
      "2019            11960.132050\n",
      "2020            11966.470204\n",
      "2021            12006.488691\n"
     ]
    }
   ],
   "source": [
    "# Préparons un dataframe en regroupant les prix au metre carré moyens des ventes par année\n",
    "\n",
    "df_byyear_locaux_moyen = df_historique_locaux.groupby (\n",
    "        df_historique_locaux.date_mutation.dt.year\n",
    "    ).agg (\n",
    "        prix_m2_moyen=('prix_m2','mean')\n",
    "    )\n",
    "\n",
    "df_byyear_appartements_moyen = df_appartements.groupby (\n",
    "        df_appartements.date_mutation.dt.year\n",
    "    ).agg (\n",
    "        prix_m2_moyen=('prix_m2','mean')\n",
    "    )\n",
    "\n",
    "print(df_byyear_appartements_moyen)\n",
    "print(df_byyear_locaux_moyen)"
   ]
  },
  {
   "cell_type": "code",
   "execution_count": 23,
   "id": "9c82810a",
   "metadata": {
    "id": "9c82810a",
    "outputId": "17d1d560-cc64-4d0b-b4a9-e18ea6f5d5e4",
    "scrolled": false
   },
   "outputs": [
    {
     "data": {
      "image/png": "[encoded data removed]",
      "text/plain": [
       "<Figure size 1000x1000 with 1 Axes>"
      ]
     },
     "metadata": {},
     "output_type": "display_data"
    }
   ],
   "source": [
    "#Création d'un graphique pour visualiser la hausse de la moyenne des prix\n",
    "plt.figure(figsize=(10,10))\n",
    "plt.plot(['2017','2018','2019','2020','2021'],df_byyear_locaux_moyen['prix_m2_moyen'], 'o-',label='locaux commerciaux',color='blue')\n",
    "plt.plot(['2017','2018','2019','2020','2021'],df_byyear_appartements_moyen['prix_m2_moyen'], 'o-',label='appartements',color='red')\n",
    "\n",
    "plt.xlabel('Années de vente')\n",
    "plt.ylabel('Montant du prix au metre carré')\n",
    "plt.legend()\n",
    "formatter = ticker.FormatStrFormatter('€%d')\n",
    "plt.gca().yaxis.set_major_formatter(formatter)\n",
    "plt.grid()\n",
    "plt.title('Evolution des prix au metre carré ')\n",
    "plt.show()"
   ]
  },
  {
   "cell_type": "markdown",
   "id": "1b1626cb",
   "metadata": {
    "id": "1b1626cb"
   },
   "source": [
    "Le prix au metre carré des locaux commerciaux est ?"
   ]
  },
  {
   "cell_type": "markdown",
   "id": "f766d471",
   "metadata": {
    "id": "f766d471"
   },
   "source": [
    "Après ces analyses, nous pouvons conclure que les dimensions à utiliser pour prédire le prix au m² sont :\n",
    "- la surface du bien immobilier,\n",
    "- la date considérée,\n",
    "- la localisation (code_postal),\n",
    "- le type de bien.\n",
    "\n",
    "\n",
    "\n",
    "Le prix au mètre carré des locaux commerciaux à Paris est en moyenne de 8 862 euros. Ce prix est en constante augmentation depuis plusieurs années, et il devrait continuer à augmenter dans les années à venir.\n",
    "\n",
    "Les dimensions à utiliser pour prédire le prix au mètre carré des locaux commerciaux sont les suivantes :\n",
    "\n",
    "La surface du bien immobilier : plus la surface est grande, plus le prix au mètre carré est élevé.\n",
    "La date considérée : plus la date est récente, plus le prix au mètre carré est élevé.\n",
    "La localisation : les locaux commerciaux situés dans les arrondissements les plus chers de Paris sont plus chers que ceux situés dans les arrondissements les moins chers.\n",
    "Le type de bien : les locaux commerciaux situés dans des zones commerçantes ou touristiques sont plus chers que ceux situés dans des zones résidentielles."
   ]
  },
  {
   "cell_type": "markdown",
   "id": "0a546f7d",
   "metadata": {
    "id": "0a546f7d"
   },
   "source": [
    "# Milestone 2 - Entraînement de l'algorithme"
   ]
  },
  {
   "cell_type": "markdown",
   "id": "8f756b84",
   "metadata": {
    "id": "8f756b84"
   },
   "source": [
    "Dans cette section nous allons maintenant entrâiner un algorithme à prédire la valeur fonciere d'un bien immobilier. Pour cela nous allons utiliser l'algorithme de régression linéaire."
   ]
  },
  {
   "cell_type": "markdown",
   "id": "917f244b",
   "metadata": {
    "id": "917f244b"
   },
   "source": [
    "On commence par préparer nos données en transformant les colonnes catégoriques du code postal et du type de local grâce au one hot encoder (sklearn) / get_dummies (pandas)"
   ]
  },
  {
   "cell_type": "markdown",
   "id": "843bd9ed",
   "metadata": {
    "id": "843bd9ed"
   },
   "source": [
    "On utilise le train_test_split pour prélever un tiers de nos données (33%) et les garder de côté. Nous allons entraîner notre algorithme sur le reste des données et puis mesurer notre erreur moyenne en pourcentage de la valeur foncière"
   ]
  },
  {
   "cell_type": "code",
   "execution_count": 24,
   "id": "d9c17d27",
   "metadata": {
    "id": "d9c17d27",
    "outputId": "ad4291f1-ec62-43b8-dc59-84701f2885cb"
   },
   "outputs": [
    {
     "data": {
      "text/html": [
       "<div>\n",
       "<style scoped>\n",
       "    .dataframe tbody tr th:only-of-type {\n",
       "        vertical-align: middle;\n",
       "    }\n",
       "\n",
       "    .dataframe tbody tr th {\n",
       "        vertical-align: top;\n",
       "    }\n",
       "\n",
       "    .dataframe thead th {\n",
       "        text-align: right;\n",
       "    }\n",
       "</style>\n",
       "<table border=\"1\" class=\"dataframe\">\n",
       "  <thead>\n",
       "    <tr style=\"text-align: right;\">\n",
       "      <th></th>\n",
       "      <th>date_mutation</th>\n",
       "      <th>valeur_fonciere</th>\n",
       "      <th>adresse_numero</th>\n",
       "      <th>adresse_nom_voie</th>\n",
       "      <th>code_postal</th>\n",
       "      <th>nom_commune</th>\n",
       "      <th>code_type_local</th>\n",
       "      <th>type_local</th>\n",
       "      <th>surface_reelle</th>\n",
       "      <th>prix_m2</th>\n",
       "      <th>commun_number</th>\n",
       "    </tr>\n",
       "  </thead>\n",
       "  <tbody>\n",
       "    <tr>\n",
       "      <th>0</th>\n",
       "      <td>2017-01-03</td>\n",
       "      <td>5.505597e+05</td>\n",
       "      <td>8</td>\n",
       "      <td>RUE DES COUTURES SAINT GERVAIS</td>\n",
       "      <td>75003</td>\n",
       "      <td>Paris 3e Arrondissement</td>\n",
       "      <td>2</td>\n",
       "      <td>Appartement</td>\n",
       "      <td>50</td>\n",
       "      <td>11011.193562</td>\n",
       "      <td>3</td>\n",
       "    </tr>\n",
       "    <tr>\n",
       "      <th>1</th>\n",
       "      <td>2017-01-12</td>\n",
       "      <td>1.576492e+06</td>\n",
       "      <td>32</td>\n",
       "      <td>AV MARCEAU</td>\n",
       "      <td>75008</td>\n",
       "      <td>Paris 8e Arrondissement</td>\n",
       "      <td>2</td>\n",
       "      <td>Appartement</td>\n",
       "      <td>163</td>\n",
       "      <td>9671.732877</td>\n",
       "      <td>8</td>\n",
       "    </tr>\n",
       "    <tr>\n",
       "      <th>2</th>\n",
       "      <td>2017-01-10</td>\n",
       "      <td>6.577574e+05</td>\n",
       "      <td>52</td>\n",
       "      <td>RUE DU FAUBOURG SAINT HONORE</td>\n",
       "      <td>75008</td>\n",
       "      <td>Paris 8e Arrondissement</td>\n",
       "      <td>2</td>\n",
       "      <td>Appartement</td>\n",
       "      <td>66</td>\n",
       "      <td>9966.020548</td>\n",
       "      <td>8</td>\n",
       "    </tr>\n",
       "    <tr>\n",
       "      <th>3</th>\n",
       "      <td>2017-01-10</td>\n",
       "      <td>2.500868e+05</td>\n",
       "      <td>64</td>\n",
       "      <td>RUE DU VERTBOIS</td>\n",
       "      <td>75003</td>\n",
       "      <td>Paris 3e Arrondissement</td>\n",
       "      <td>2</td>\n",
       "      <td>Appartement</td>\n",
       "      <td>22</td>\n",
       "      <td>11367.582877</td>\n",
       "      <td>3</td>\n",
       "    </tr>\n",
       "    <tr>\n",
       "      <th>4</th>\n",
       "      <td>2017-01-13</td>\n",
       "      <td>1.762667e+05</td>\n",
       "      <td>25</td>\n",
       "      <td>RUE DES LAVANDIERES STE OPPORT</td>\n",
       "      <td>75001</td>\n",
       "      <td>Paris 1er Arrondissement</td>\n",
       "      <td>2</td>\n",
       "      <td>Appartement</td>\n",
       "      <td>15</td>\n",
       "      <td>11751.113836</td>\n",
       "      <td>1</td>\n",
       "    </tr>\n",
       "  </tbody>\n",
       "</table>\n",
       "</div>"
      ],
      "text/plain": [
       "  date_mutation  valeur_fonciere  adresse_numero  \\\n",
       "0    2017-01-03     5.505597e+05               8   \n",
       "1    2017-01-12     1.576492e+06              32   \n",
       "2    2017-01-10     6.577574e+05              52   \n",
       "3    2017-01-10     2.500868e+05              64   \n",
       "4    2017-01-13     1.762667e+05              25   \n",
       "\n",
       "                 adresse_nom_voie  code_postal               nom_commune  \\\n",
       "0  RUE DES COUTURES SAINT GERVAIS        75003   Paris 3e Arrondissement   \n",
       "1                      AV MARCEAU        75008   Paris 8e Arrondissement   \n",
       "2    RUE DU FAUBOURG SAINT HONORE        75008   Paris 8e Arrondissement   \n",
       "3                 RUE DU VERTBOIS        75003   Paris 3e Arrondissement   \n",
       "4  RUE DES LAVANDIERES STE OPPORT        75001  Paris 1er Arrondissement   \n",
       "\n",
       "   code_type_local   type_local  surface_reelle       prix_m2 commun_number  \n",
       "0                2  Appartement              50  11011.193562             3  \n",
       "1                2  Appartement             163   9671.732877             8  \n",
       "2                2  Appartement              66   9966.020548             8  \n",
       "3                2  Appartement              22  11367.582877             3  \n",
       "4                2  Appartement              15  11751.113836             1  "
      ]
     },
     "execution_count": 24,
     "metadata": {},
     "output_type": "execute_result"
    }
   ],
   "source": [
    "df_historique.head()"
   ]
  },
  {
   "cell_type": "code",
   "execution_count": 25,
   "id": "0bc26074",
   "metadata": {
    "id": "0bc26074"
   },
   "outputs": [],
   "source": [
    "#conversion des donées en str\n",
    "from sklearn.preprocessing import OneHotEncoder\n",
    "\n"
   ]
  },
  {
   "cell_type": "code",
   "execution_count": 26,
   "id": "856cd02a",
   "metadata": {
    "id": "856cd02a",
    "outputId": "cda9ef69-d83a-4456-c81c-d085c59e5f94"
   },
   "outputs": [
    {
     "data": {
      "text/plain": [
       "Index(['valeur_fonciere', 'surface_reelle', 'cp_75001', 'cp_75002', 'cp_75003',\n",
       "       'cp_75004', 'cp_75005', 'cp_75006', 'cp_75007', 'cp_75008', 'cp_75009',\n",
       "       'cp_75010', 'cp_75011', 'cp_75012', 'cp_75013', 'cp_75014', 'cp_75015',\n",
       "       'cp_75016', 'cp_75017', 'cp_75018', 'cp_75019', 'cp_75020',\n",
       "       'Appartement', 'Local industriel. commercial ou assimilé',\n",
       "       'datetime_int'],\n",
       "      dtype='object')"
      ]
     },
     "execution_count": 26,
     "metadata": {},
     "output_type": "execute_result"
    }
   ],
   "source": [
    "df_encoded=df_historique.join(pd.get_dummies(df_historique['code_postal'], prefix = 'cp'))\n",
    "df_encoded=df_encoded.join(pd.get_dummies(df_historique['type_local']))\n",
    "df_encoded['datetime_int']=df_encoded['date_mutation'].astype('datetime64[s]').astype('int64') / 10**9\n",
    "df_encoded.drop(['date_mutation','code_postal','code_type_local','type_local','adresse_numero','commun_number','adresse_nom_voie','nom_commune','prix_m2'],axis='columns',inplace=True)\n",
    "df_encoded.columns"
   ]
  },
  {
   "cell_type": "code",
   "execution_count": 27,
   "id": "a50ad870",
   "metadata": {
    "id": "a50ad870"
   },
   "outputs": [],
   "source": [
    "from sklearn.model_selection import train_test_split"
   ]
  },
  {
   "cell_type": "code",
   "execution_count": 28,
   "id": "5a319620",
   "metadata": {
    "id": "5a319620"
   },
   "outputs": [],
   "source": [
    "X = df_encoded.drop(['valeur_fonciere'], axis = 1)\n",
    "y = df_encoded['valeur_fonciere']\n",
    "\n",
    "X_train, X_test, y_train, y_test = train_test_split(X, y, test_size = 0.33, random_state=6)"
   ]
  },
  {
   "cell_type": "code",
   "execution_count": 29,
   "id": "68d30dc6",
   "metadata": {
    "id": "68d30dc6"
   },
   "outputs": [],
   "source": [
    "from sklearn.preprocessing import StandardScaler"
   ]
  },
  {
   "cell_type": "code",
   "execution_count": 30,
   "id": "6a20b7bc",
   "metadata": {
    "id": "6a20b7bc"
   },
   "outputs": [],
   "source": [
    "from sklearn.linear_model import LinearRegression\n",
    "\n",
    "# model\n",
    "linear_regression_model = LinearRegression()\n",
    "\n",
    "# model fitting\n",
    "linear_regression_model.fit(X_train, y_train)\n",
    "\n",
    "# model prediction\n",
    "y_predict = linear_regression_model.predict(X_test)\n"
   ]
  },
  {
   "cell_type": "code",
   "execution_count": 31,
   "id": "8199cb0f",
   "metadata": {
    "id": "8199cb0f",
    "outputId": "fd126bbf-a0e5-4acb-b8de-445fe492f0e1"
   },
   "outputs": [
    {
     "data": {
      "text/plain": [
       "8.930168285483028"
      ]
     },
     "execution_count": 31,
     "metadata": {},
     "output_type": "execute_result"
    }
   ],
   "source": [
    "(np.mean(abs(y_test-y_predict)/y_test))*100"
   ]
  },
  {
   "cell_type": "markdown",
   "id": "178309e5",
   "metadata": {
    "id": "178309e5"
   },
   "source": [
    "#Notre algorithme fait donc  8.93 % d'erreur en moyenne sur la prédiction de la valeur foncière.\n",
    "\n",
    "#Mes conclusions sur ce résultat et comment j'aurais pu aller plus loin :\n",
    "- Interprétation du MSE\n",
    "   -#Ingénierie des Caractéristiques\n",
    "   -#Complexité du Modèle\n",
    "   -#Qualité des Données\n",
    "   -#Optimisation des Hyperparamètres\n",
    "- Conclusions sur les Résultats\n",
    "- Possibilités d'Amélioration\n",
    "- Analyses Supplémentaires :\n"
   ]
  },
  {
   "cell_type": "code",
   "execution_count": null,
   "id": "f24b03e2",
   "metadata": {
    "id": "f24b03e2"
   },
   "outputs": [],
   "source": []
  },
  {
   "cell_type": "markdown",
   "id": "8057b17c",
   "metadata": {
    "id": "8057b17c"
   },
   "source": [
    "# Milestone 3 - Prédiction définitive pour le client"
   ]
  },
  {
   "cell_type": "markdown",
   "id": "9c696fd8",
   "metadata": {
    "id": "9c696fd8"
   },
   "source": [
    "Nous avons récupéré le fichier avec le portefeuille des actifs de la société. Nous allons l'importer puis effectuer la prédiction et statuer sur la branche qui, selon notre prédiction, aura le plus de valeur à la date demandée c'est à dire au 31 décembre 2022.<br>\n",
    "Petite précision, nous souhaitons continuer à utiliser la surface réelle pour faire les calculs et pas la surface carrez."
   ]
  },
  {
   "cell_type": "code",
   "execution_count": 32,
   "id": "9263e666",
   "metadata": {
    "id": "9263e666"
   },
   "outputs": [],
   "source": [
    "#On importe les données dans un dataframe\n",
    "df_portefeuille_actifs= pd.read_excel(r\"C:\\Users\\M22O101\\Downloads\\Openclasroom\\Projet 8_102023\\portefeuille_actifs.xlsx.\")\n",
    "\n",
    "\n",
    "\n",
    "#df_portefeuille_actifs: est le nom du dataframe qui sera créé pour contenir les données importées.\n",
    "#pd.read_excel(): est une fonction de Pandas qui permet d'importer des données depuis un fichier Excel."
   ]
  },
  {
   "cell_type": "code",
   "execution_count": 33,
   "id": "e874c8f4",
   "metadata": {
    "id": "e874c8f4",
    "outputId": "b09169fb-aea1-4ee0-e00f-a8b32e568b74"
   },
   "outputs": [
    {
     "name": "stdout",
     "output_type": "stream",
     "text": [
      "<class 'pandas.core.frame.DataFrame'>\n",
      "RangeIndex: 275 entries, 0 to 274\n",
      "Data columns (total 12 columns):\n",
      " #   Column                     Non-Null Count  Dtype  \n",
      "---  ------                     --------------  -----  \n",
      " 0   adresse_numero             275 non-null    int64  \n",
      " 1   adresse_nom_voie           275 non-null    object \n",
      " 2   code_postal                275 non-null    int64  \n",
      " 3   code_commune               275 non-null    int64  \n",
      " 4   nom_commune                275 non-null    object \n",
      " 5   surface_carrez             275 non-null    float64\n",
      " 6   code_type_local            275 non-null    int64  \n",
      " 7   type_local                 275 non-null    object \n",
      " 8   surface_reelle_bati        275 non-null    int64  \n",
      " 9   nombre_pieces_principales  275 non-null    int64  \n",
      " 10  longitude                  275 non-null    float64\n",
      " 11  latitude                   275 non-null    float64\n",
      "dtypes: float64(3), int64(6), object(3)\n",
      "memory usage: 25.9+ KB\n"
     ]
    }
   ],
   "source": [
    "df_portefeuille_actifs.info()\n",
    "\n",
    "#c'est code  pour obtenir un aperçu rapide des informations sur un dataframe Pandas."
   ]
  },
  {
   "cell_type": "code",
   "execution_count": 34,
   "id": "9bf6cdae",
   "metadata": {
    "id": "9bf6cdae",
    "outputId": "a31bd634-b159-4625-d124-a8d2c43b3853"
   },
   "outputs": [
    {
     "data": {
      "text/html": [
       "<div>\n",
       "<style scoped>\n",
       "    .dataframe tbody tr th:only-of-type {\n",
       "        vertical-align: middle;\n",
       "    }\n",
       "\n",
       "    .dataframe tbody tr th {\n",
       "        vertical-align: top;\n",
       "    }\n",
       "\n",
       "    .dataframe thead th {\n",
       "        text-align: right;\n",
       "    }\n",
       "</style>\n",
       "<table border=\"1\" class=\"dataframe\">\n",
       "  <thead>\n",
       "    <tr style=\"text-align: right;\">\n",
       "      <th></th>\n",
       "      <th>adresse_numero</th>\n",
       "      <th>adresse_nom_voie</th>\n",
       "      <th>code_postal</th>\n",
       "      <th>code_commune</th>\n",
       "      <th>nom_commune</th>\n",
       "      <th>surface_carrez</th>\n",
       "      <th>code_type_local</th>\n",
       "      <th>type_local</th>\n",
       "      <th>surface_reelle_bati</th>\n",
       "      <th>nombre_pieces_principales</th>\n",
       "      <th>longitude</th>\n",
       "      <th>latitude</th>\n",
       "    </tr>\n",
       "  </thead>\n",
       "  <tbody>\n",
       "    <tr>\n",
       "      <th>0</th>\n",
       "      <td>127</td>\n",
       "      <td>RUE SAINT-DENIS</td>\n",
       "      <td>75001</td>\n",
       "      <td>75101</td>\n",
       "      <td>Paris 1er Arrondissement</td>\n",
       "      <td>16.41</td>\n",
       "      <td>2</td>\n",
       "      <td>Appartement</td>\n",
       "      <td>25</td>\n",
       "      <td>1</td>\n",
       "      <td>2.349593</td>\n",
       "      <td>48.863227</td>\n",
       "    </tr>\n",
       "    <tr>\n",
       "      <th>1</th>\n",
       "      <td>62</td>\n",
       "      <td>RUE NOTRE-DAME DE NAZARETH</td>\n",
       "      <td>75003</td>\n",
       "      <td>75103</td>\n",
       "      <td>Paris 3e Arrondissement</td>\n",
       "      <td>20.47</td>\n",
       "      <td>2</td>\n",
       "      <td>Appartement</td>\n",
       "      <td>22</td>\n",
       "      <td>1</td>\n",
       "      <td>2.356977</td>\n",
       "      <td>48.867907</td>\n",
       "    </tr>\n",
       "    <tr>\n",
       "      <th>2</th>\n",
       "      <td>62</td>\n",
       "      <td>RUE DE TURENNE</td>\n",
       "      <td>75003</td>\n",
       "      <td>75103</td>\n",
       "      <td>Paris 3e Arrondissement</td>\n",
       "      <td>64.48</td>\n",
       "      <td>2</td>\n",
       "      <td>Appartement</td>\n",
       "      <td>65</td>\n",
       "      <td>3</td>\n",
       "      <td>2.364855</td>\n",
       "      <td>48.859318</td>\n",
       "    </tr>\n",
       "    <tr>\n",
       "      <th>3</th>\n",
       "      <td>32</td>\n",
       "      <td>AV GEORGE V</td>\n",
       "      <td>75008</td>\n",
       "      <td>75108</td>\n",
       "      <td>Paris 8e Arrondissement</td>\n",
       "      <td>63.29</td>\n",
       "      <td>2</td>\n",
       "      <td>Appartement</td>\n",
       "      <td>74</td>\n",
       "      <td>2</td>\n",
       "      <td>2.301586</td>\n",
       "      <td>48.868893</td>\n",
       "    </tr>\n",
       "    <tr>\n",
       "      <th>4</th>\n",
       "      <td>152</td>\n",
       "      <td>BD HAUSSMANN</td>\n",
       "      <td>75008</td>\n",
       "      <td>75108</td>\n",
       "      <td>Paris 8e Arrondissement</td>\n",
       "      <td>20.58</td>\n",
       "      <td>2</td>\n",
       "      <td>Appartement</td>\n",
       "      <td>22</td>\n",
       "      <td>1</td>\n",
       "      <td>2.311643</td>\n",
       "      <td>48.875490</td>\n",
       "    </tr>\n",
       "  </tbody>\n",
       "</table>\n",
       "</div>"
      ],
      "text/plain": [
       "   adresse_numero            adresse_nom_voie  code_postal  code_commune  \\\n",
       "0             127             RUE SAINT-DENIS        75001         75101   \n",
       "1              62  RUE NOTRE-DAME DE NAZARETH        75003         75103   \n",
       "2              62              RUE DE TURENNE        75003         75103   \n",
       "3              32                 AV GEORGE V        75008         75108   \n",
       "4             152                BD HAUSSMANN        75008         75108   \n",
       "\n",
       "                nom_commune  surface_carrez  code_type_local   type_local  \\\n",
       "0  Paris 1er Arrondissement           16.41                2  Appartement   \n",
       "1   Paris 3e Arrondissement           20.47                2  Appartement   \n",
       "2   Paris 3e Arrondissement           64.48                2  Appartement   \n",
       "3   Paris 8e Arrondissement           63.29                2  Appartement   \n",
       "4   Paris 8e Arrondissement           20.58                2  Appartement   \n",
       "\n",
       "   surface_reelle_bati  nombre_pieces_principales  longitude   latitude  \n",
       "0                   25                          1   2.349593  48.863227  \n",
       "1                   22                          1   2.356977  48.867907  \n",
       "2                   65                          3   2.364855  48.859318  \n",
       "3                   74                          2   2.301586  48.868893  \n",
       "4                   22                          1   2.311643  48.875490  "
      ]
     },
     "execution_count": 34,
     "metadata": {},
     "output_type": "execute_result"
    }
   ],
   "source": [
    "df_portefeuille_actifs.head()\n",
    "\n",
    "#c'estcode renvoie les premières lignes d'un dataframe Pandas. Par défaut, elle renvoie les 5 premières lignes."
   ]
  },
  {
   "cell_type": "code",
   "execution_count": 35,
   "id": "48b83e1e",
   "metadata": {
    "id": "48b83e1e",
    "outputId": "c9a8945f-6d0a-4347-ba82-1f0e5c457a9a"
   },
   "outputs": [
    {
     "data": {
      "text/html": [
       "<div>\n",
       "<style scoped>\n",
       "    .dataframe tbody tr th:only-of-type {\n",
       "        vertical-align: middle;\n",
       "    }\n",
       "\n",
       "    .dataframe tbody tr th {\n",
       "        vertical-align: top;\n",
       "    }\n",
       "\n",
       "    .dataframe thead th {\n",
       "        text-align: right;\n",
       "    }\n",
       "</style>\n",
       "<table border=\"1\" class=\"dataframe\">\n",
       "  <thead>\n",
       "    <tr style=\"text-align: right;\">\n",
       "      <th></th>\n",
       "      <th>surface_reelle</th>\n",
       "      <th>cp_75001</th>\n",
       "      <th>cp_75002</th>\n",
       "      <th>cp_75003</th>\n",
       "      <th>cp_75004</th>\n",
       "      <th>cp_75005</th>\n",
       "      <th>cp_75006</th>\n",
       "      <th>cp_75007</th>\n",
       "      <th>cp_75008</th>\n",
       "      <th>cp_75009</th>\n",
       "      <th>...</th>\n",
       "      <th>cp_75014</th>\n",
       "      <th>cp_75015</th>\n",
       "      <th>cp_75016</th>\n",
       "      <th>cp_75017</th>\n",
       "      <th>cp_75018</th>\n",
       "      <th>cp_75019</th>\n",
       "      <th>cp_75020</th>\n",
       "      <th>Appartement</th>\n",
       "      <th>Local industriel. commercial ou assimilé</th>\n",
       "      <th>datetime_int</th>\n",
       "    </tr>\n",
       "  </thead>\n",
       "  <tbody>\n",
       "    <tr>\n",
       "      <th>0</th>\n",
       "      <td>25</td>\n",
       "      <td>1</td>\n",
       "      <td>0</td>\n",
       "      <td>0</td>\n",
       "      <td>0</td>\n",
       "      <td>0</td>\n",
       "      <td>0</td>\n",
       "      <td>0</td>\n",
       "      <td>0</td>\n",
       "      <td>0</td>\n",
       "      <td>...</td>\n",
       "      <td>0</td>\n",
       "      <td>0</td>\n",
       "      <td>0</td>\n",
       "      <td>0</td>\n",
       "      <td>0</td>\n",
       "      <td>0</td>\n",
       "      <td>0</td>\n",
       "      <td>1</td>\n",
       "      <td>0</td>\n",
       "      <td>1672441200</td>\n",
       "    </tr>\n",
       "    <tr>\n",
       "      <th>1</th>\n",
       "      <td>22</td>\n",
       "      <td>0</td>\n",
       "      <td>0</td>\n",
       "      <td>1</td>\n",
       "      <td>0</td>\n",
       "      <td>0</td>\n",
       "      <td>0</td>\n",
       "      <td>0</td>\n",
       "      <td>0</td>\n",
       "      <td>0</td>\n",
       "      <td>...</td>\n",
       "      <td>0</td>\n",
       "      <td>0</td>\n",
       "      <td>0</td>\n",
       "      <td>0</td>\n",
       "      <td>0</td>\n",
       "      <td>0</td>\n",
       "      <td>0</td>\n",
       "      <td>1</td>\n",
       "      <td>0</td>\n",
       "      <td>1672441200</td>\n",
       "    </tr>\n",
       "    <tr>\n",
       "      <th>2</th>\n",
       "      <td>65</td>\n",
       "      <td>0</td>\n",
       "      <td>0</td>\n",
       "      <td>1</td>\n",
       "      <td>0</td>\n",
       "      <td>0</td>\n",
       "      <td>0</td>\n",
       "      <td>0</td>\n",
       "      <td>0</td>\n",
       "      <td>0</td>\n",
       "      <td>...</td>\n",
       "      <td>0</td>\n",
       "      <td>0</td>\n",
       "      <td>0</td>\n",
       "      <td>0</td>\n",
       "      <td>0</td>\n",
       "      <td>0</td>\n",
       "      <td>0</td>\n",
       "      <td>1</td>\n",
       "      <td>0</td>\n",
       "      <td>1672441200</td>\n",
       "    </tr>\n",
       "    <tr>\n",
       "      <th>3</th>\n",
       "      <td>74</td>\n",
       "      <td>0</td>\n",
       "      <td>0</td>\n",
       "      <td>0</td>\n",
       "      <td>0</td>\n",
       "      <td>0</td>\n",
       "      <td>0</td>\n",
       "      <td>0</td>\n",
       "      <td>1</td>\n",
       "      <td>0</td>\n",
       "      <td>...</td>\n",
       "      <td>0</td>\n",
       "      <td>0</td>\n",
       "      <td>0</td>\n",
       "      <td>0</td>\n",
       "      <td>0</td>\n",
       "      <td>0</td>\n",
       "      <td>0</td>\n",
       "      <td>1</td>\n",
       "      <td>0</td>\n",
       "      <td>1672441200</td>\n",
       "    </tr>\n",
       "    <tr>\n",
       "      <th>4</th>\n",
       "      <td>22</td>\n",
       "      <td>0</td>\n",
       "      <td>0</td>\n",
       "      <td>0</td>\n",
       "      <td>0</td>\n",
       "      <td>0</td>\n",
       "      <td>0</td>\n",
       "      <td>0</td>\n",
       "      <td>1</td>\n",
       "      <td>0</td>\n",
       "      <td>...</td>\n",
       "      <td>0</td>\n",
       "      <td>0</td>\n",
       "      <td>0</td>\n",
       "      <td>0</td>\n",
       "      <td>0</td>\n",
       "      <td>0</td>\n",
       "      <td>0</td>\n",
       "      <td>1</td>\n",
       "      <td>0</td>\n",
       "      <td>1672441200</td>\n",
       "    </tr>\n",
       "  </tbody>\n",
       "</table>\n",
       "<p>5 rows × 24 columns</p>\n",
       "</div>"
      ],
      "text/plain": [
       "   surface_reelle  cp_75001  cp_75002  cp_75003  cp_75004  cp_75005  cp_75006  \\\n",
       "0              25         1         0         0         0         0         0   \n",
       "1              22         0         0         1         0         0         0   \n",
       "2              65         0         0         1         0         0         0   \n",
       "3              74         0         0         0         0         0         0   \n",
       "4              22         0         0         0         0         0         0   \n",
       "\n",
       "   cp_75007  cp_75008  cp_75009  ...  cp_75014  cp_75015  cp_75016  cp_75017  \\\n",
       "0         0         0         0  ...         0         0         0         0   \n",
       "1         0         0         0  ...         0         0         0         0   \n",
       "2         0         0         0  ...         0         0         0         0   \n",
       "3         0         1         0  ...         0         0         0         0   \n",
       "4         0         1         0  ...         0         0         0         0   \n",
       "\n",
       "   cp_75018  cp_75019  cp_75020  Appartement  \\\n",
       "0         0         0         0            1   \n",
       "1         0         0         0            1   \n",
       "2         0         0         0            1   \n",
       "3         0         0         0            1   \n",
       "4         0         0         0            1   \n",
       "\n",
       "   Local industriel. commercial ou assimilé  datetime_int  \n",
       "0                                         0    1672441200  \n",
       "1                                         0    1672441200  \n",
       "2                                         0    1672441200  \n",
       "3                                         0    1672441200  \n",
       "4                                         0    1672441200  \n",
       "\n",
       "[5 rows x 24 columns]"
      ]
     },
     "execution_count": 35,
     "metadata": {},
     "output_type": "execute_result"
    }
   ],
   "source": [
    "import datetime as dt\n",
    "\n",
    "df_portefeuille_actifs_encode=df_portefeuille_actifs.join(pd.get_dummies(df_portefeuille_actifs['code_postal'],  prefix = 'cp'))\n",
    "df_portefeuille_actifs_encode=df_portefeuille_actifs_encode.join(pd.get_dummies(df_portefeuille_actifs['type_local']))\n",
    "df_portefeuille_actifs_encode['datetime_int']=int(dt.datetime(2022, 12, 31).timestamp())\n",
    "df_portefeuille_actifs_encode.drop(['code_postal','code_type_local','type_local','adresse_numero','adresse_nom_voie','nom_commune','code_commune','surface_carrez','nombre_pieces_principales','latitude','longitude'],axis='columns',inplace=True)\n",
    "df_portefeuille_actifs_encode.rename(columns={'surface_reelle_bati':'surface_reelle'}, inplace=True)\n",
    "df_portefeuille_actifs_encode = df_portefeuille_actifs_encode [['surface_reelle', 'cp_75001', 'cp_75002', 'cp_75003',\n",
    "       'cp_75004', 'cp_75005', 'cp_75006', 'cp_75007', 'cp_75008', 'cp_75009',\n",
    "       'cp_75010', 'cp_75011', 'cp_75012', 'cp_75013', 'cp_75014', 'cp_75015',\n",
    "       'cp_75016', 'cp_75017', 'cp_75018', 'cp_75019', 'cp_75020',\n",
    "       'Appartement', 'Local industriel. commercial ou assimilé',\n",
    "       'datetime_int']]\n",
    "df_portefeuille_actifs_encode.head(5)"
   ]
  },
  {
   "cell_type": "code",
   "execution_count": 36,
   "id": "319b85bf",
   "metadata": {
    "id": "319b85bf",
    "outputId": "49aee788-f59b-4551-e81a-6eb64da0ea24"
   },
   "outputs": [
    {
     "data": {
      "text/plain": [
       "Index(['surface_reelle', 'cp_75001', 'cp_75002', 'cp_75003', 'cp_75004',\n",
       "       'cp_75005', 'cp_75006', 'cp_75007', 'cp_75008', 'cp_75009', 'cp_75010',\n",
       "       'cp_75011', 'cp_75012', 'cp_75013', 'cp_75014', 'cp_75015', 'cp_75016',\n",
       "       'cp_75017', 'cp_75018', 'cp_75019', 'cp_75020', 'Appartement',\n",
       "       'Local industriel. commercial ou assimilé', 'datetime_int'],\n",
       "      dtype='object')"
      ]
     },
     "execution_count": 36,
     "metadata": {},
     "output_type": "execute_result"
    }
   ],
   "source": [
    "X_train.columns"
   ]
  },
  {
   "cell_type": "markdown",
   "id": "736a5380",
   "metadata": {
    "id": "736a5380"
   },
   "source": [
    "Nous avons la liste des biens immobiliers de l'entreprise. Pour effectuer une prédiction, nous devons mettre ce fichier au même format que le dataframe que nous avons utilisé lors de l'entraînement de l'algorithme."
   ]
  },
  {
   "cell_type": "code",
   "execution_count": 37,
   "id": "4d6a8b40",
   "metadata": {
    "id": "4d6a8b40"
   },
   "outputs": [],
   "source": [
    "#On réutilise les mêmes fonctions pour faire le one hot encoding des variables catégorielles\n",
    "\n",
    "#On importe la librairie datetime pour pouvoir créer une colonne timestamp avec la date du 31 décembre 2022 pour la prédiction\n",
    "import datetime\n",
    "\n",
    "mark_date = datetime.date(2022, 12, 31)\n",
    "\n",
    "#d'abord  on importe le module datetime de la bibliothèque standard de Python.\n",
    "#Ce module fournit des classes et des fonctions pour représenter des dates et des heures.\n",
    "\n",
    "#Puis: on crée une instance de la classe date du module datetime. Cette instance représente la date du 31 décembre 2022.\n",
    "\n"
   ]
  },
  {
   "cell_type": "code",
   "execution_count": 38,
   "id": "aa5806d6",
   "metadata": {
    "id": "aa5806d6",
    "outputId": "fcb1ae10-3047-410f-d1b8-197e3a5bed14"
   },
   "outputs": [
    {
     "data": {
      "text/plain": [
       "Index(['adresse_numero', 'adresse_nom_voie', 'code_postal', 'code_commune',\n",
       "       'nom_commune', 'surface_carrez', 'code_type_local', 'type_local',\n",
       "       'surface_reelle_bati', 'nombre_pieces_principales', 'longitude',\n",
       "       'latitude'],\n",
       "      dtype='object')"
      ]
     },
     "execution_count": 38,
     "metadata": {},
     "output_type": "execute_result"
    }
   ],
   "source": [
    "df_portefeuille_actifs.columns\n",
    "\n",
    "#Ce code renvoie une liste des noms des colonnes du dataframe df_portefeuille_actifs."
   ]
  },
  {
   "cell_type": "code",
   "execution_count": 39,
   "id": "ebf195b8",
   "metadata": {
    "id": "ebf195b8"
   },
   "outputs": [],
   "source": [
    "df_portefeuille_actifs.rename(columns={\"surface_reelle_bati\": \"surface_reelle\"}, inplace=True)\n",
    "\n",
    "\n",
    "\n",
    "\n",
    "#Ce code crée un nouveau DataFrame appelé df_portefeuille_actifs en sélectionnant uniquement certaines colonnes du DataFrame d'origine df_portefeuille_actifs"
   ]
  },
  {
   "cell_type": "code",
   "execution_count": 40,
   "id": "5aa21947",
   "metadata": {
    "id": "5aa21947",
    "outputId": "171443c7-694e-4198-a7db-cc7eaefa3bb1"
   },
   "outputs": [
    {
     "data": {
      "text/html": [
       "<div>\n",
       "<style scoped>\n",
       "    .dataframe tbody tr th:only-of-type {\n",
       "        vertical-align: middle;\n",
       "    }\n",
       "\n",
       "    .dataframe tbody tr th {\n",
       "        vertical-align: top;\n",
       "    }\n",
       "\n",
       "    .dataframe thead th {\n",
       "        text-align: right;\n",
       "    }\n",
       "</style>\n",
       "<table border=\"1\" class=\"dataframe\">\n",
       "  <thead>\n",
       "    <tr style=\"text-align: right;\">\n",
       "      <th></th>\n",
       "      <th>adresse_numero</th>\n",
       "      <th>adresse_nom_voie</th>\n",
       "      <th>code_postal</th>\n",
       "      <th>code_commune</th>\n",
       "      <th>nom_commune</th>\n",
       "      <th>surface_carrez</th>\n",
       "      <th>code_type_local</th>\n",
       "      <th>type_local</th>\n",
       "      <th>surface_reelle</th>\n",
       "      <th>nombre_pieces_principales</th>\n",
       "      <th>longitude</th>\n",
       "      <th>latitude</th>\n",
       "    </tr>\n",
       "  </thead>\n",
       "  <tbody>\n",
       "    <tr>\n",
       "      <th>0</th>\n",
       "      <td>127</td>\n",
       "      <td>RUE SAINT-DENIS</td>\n",
       "      <td>75001</td>\n",
       "      <td>75101</td>\n",
       "      <td>Paris 1er Arrondissement</td>\n",
       "      <td>16.41</td>\n",
       "      <td>2</td>\n",
       "      <td>Appartement</td>\n",
       "      <td>25</td>\n",
       "      <td>1</td>\n",
       "      <td>2.349593</td>\n",
       "      <td>48.863227</td>\n",
       "    </tr>\n",
       "    <tr>\n",
       "      <th>1</th>\n",
       "      <td>62</td>\n",
       "      <td>RUE NOTRE-DAME DE NAZARETH</td>\n",
       "      <td>75003</td>\n",
       "      <td>75103</td>\n",
       "      <td>Paris 3e Arrondissement</td>\n",
       "      <td>20.47</td>\n",
       "      <td>2</td>\n",
       "      <td>Appartement</td>\n",
       "      <td>22</td>\n",
       "      <td>1</td>\n",
       "      <td>2.356977</td>\n",
       "      <td>48.867907</td>\n",
       "    </tr>\n",
       "    <tr>\n",
       "      <th>2</th>\n",
       "      <td>62</td>\n",
       "      <td>RUE DE TURENNE</td>\n",
       "      <td>75003</td>\n",
       "      <td>75103</td>\n",
       "      <td>Paris 3e Arrondissement</td>\n",
       "      <td>64.48</td>\n",
       "      <td>2</td>\n",
       "      <td>Appartement</td>\n",
       "      <td>65</td>\n",
       "      <td>3</td>\n",
       "      <td>2.364855</td>\n",
       "      <td>48.859318</td>\n",
       "    </tr>\n",
       "    <tr>\n",
       "      <th>3</th>\n",
       "      <td>32</td>\n",
       "      <td>AV GEORGE V</td>\n",
       "      <td>75008</td>\n",
       "      <td>75108</td>\n",
       "      <td>Paris 8e Arrondissement</td>\n",
       "      <td>63.29</td>\n",
       "      <td>2</td>\n",
       "      <td>Appartement</td>\n",
       "      <td>74</td>\n",
       "      <td>2</td>\n",
       "      <td>2.301586</td>\n",
       "      <td>48.868893</td>\n",
       "    </tr>\n",
       "    <tr>\n",
       "      <th>4</th>\n",
       "      <td>152</td>\n",
       "      <td>BD HAUSSMANN</td>\n",
       "      <td>75008</td>\n",
       "      <td>75108</td>\n",
       "      <td>Paris 8e Arrondissement</td>\n",
       "      <td>20.58</td>\n",
       "      <td>2</td>\n",
       "      <td>Appartement</td>\n",
       "      <td>22</td>\n",
       "      <td>1</td>\n",
       "      <td>2.311643</td>\n",
       "      <td>48.875490</td>\n",
       "    </tr>\n",
       "  </tbody>\n",
       "</table>\n",
       "</div>"
      ],
      "text/plain": [
       "   adresse_numero            adresse_nom_voie  code_postal  code_commune  \\\n",
       "0             127             RUE SAINT-DENIS        75001         75101   \n",
       "1              62  RUE NOTRE-DAME DE NAZARETH        75003         75103   \n",
       "2              62              RUE DE TURENNE        75003         75103   \n",
       "3              32                 AV GEORGE V        75008         75108   \n",
       "4             152                BD HAUSSMANN        75008         75108   \n",
       "\n",
       "                nom_commune  surface_carrez  code_type_local   type_local  \\\n",
       "0  Paris 1er Arrondissement           16.41                2  Appartement   \n",
       "1   Paris 3e Arrondissement           20.47                2  Appartement   \n",
       "2   Paris 3e Arrondissement           64.48                2  Appartement   \n",
       "3   Paris 8e Arrondissement           63.29                2  Appartement   \n",
       "4   Paris 8e Arrondissement           20.58                2  Appartement   \n",
       "\n",
       "   surface_reelle  nombre_pieces_principales  longitude   latitude  \n",
       "0              25                          1   2.349593  48.863227  \n",
       "1              22                          1   2.356977  48.867907  \n",
       "2              65                          3   2.364855  48.859318  \n",
       "3              74                          2   2.301586  48.868893  \n",
       "4              22                          1   2.311643  48.875490  "
      ]
     },
     "execution_count": 40,
     "metadata": {},
     "output_type": "execute_result"
    }
   ],
   "source": [
    "df_portefeuille_actifs.head()\n",
    "\n",
    "\n",
    "#Ce code utilise la méthode head() pour afficher les premières lignes du DataFrame df_portefeuille_actifs.\n",
    "#Cela permet de visualiser rapidement les premières observations du jeu de données et d'avoir un aperçu de sa structure."
   ]
  },
  {
   "cell_type": "markdown",
   "id": "fbb93276",
   "metadata": {
    "id": "fbb93276"
   },
   "source": [
    "Notre dataframe est prêt à être utilisé par notre algorithme de prédiction."
   ]
  },
  {
   "cell_type": "code",
   "execution_count": 41,
   "id": "9c8d4087",
   "metadata": {
    "id": "9c8d4087",
    "outputId": "1e355cdd-982a-4175-c204-5a4644daf0b3"
   },
   "outputs": [
    {
     "name": "stdout",
     "output_type": "stream",
     "text": [
      "[430270.55389997 367219.5490974  827114.93269653 876575.72060723\n",
      " 320423.16369665 459461.30292429 388610.0320555  643214.57103907\n",
      " 138286.67524973 140637.1779373 ]\n"
     ]
    },
    {
     "data": {
      "text/html": [
       "<div>\n",
       "<style scoped>\n",
       "    .dataframe tbody tr th:only-of-type {\n",
       "        vertical-align: middle;\n",
       "    }\n",
       "\n",
       "    .dataframe tbody tr th {\n",
       "        vertical-align: top;\n",
       "    }\n",
       "\n",
       "    .dataframe thead th {\n",
       "        text-align: right;\n",
       "    }\n",
       "</style>\n",
       "<table border=\"1\" class=\"dataframe\">\n",
       "  <thead>\n",
       "    <tr style=\"text-align: right;\">\n",
       "      <th></th>\n",
       "      <th>surface_reelle</th>\n",
       "      <th>cp_75001</th>\n",
       "      <th>cp_75002</th>\n",
       "      <th>cp_75003</th>\n",
       "      <th>cp_75004</th>\n",
       "      <th>cp_75005</th>\n",
       "      <th>cp_75006</th>\n",
       "      <th>cp_75007</th>\n",
       "      <th>cp_75008</th>\n",
       "      <th>cp_75009</th>\n",
       "      <th>...</th>\n",
       "      <th>cp_75015</th>\n",
       "      <th>cp_75016</th>\n",
       "      <th>cp_75017</th>\n",
       "      <th>cp_75018</th>\n",
       "      <th>cp_75019</th>\n",
       "      <th>cp_75020</th>\n",
       "      <th>Appartement</th>\n",
       "      <th>Local industriel. commercial ou assimilé</th>\n",
       "      <th>datetime_int</th>\n",
       "      <th>valeur_fonciere_prediction</th>\n",
       "    </tr>\n",
       "  </thead>\n",
       "  <tbody>\n",
       "    <tr>\n",
       "      <th>0</th>\n",
       "      <td>25</td>\n",
       "      <td>1</td>\n",
       "      <td>0</td>\n",
       "      <td>0</td>\n",
       "      <td>0</td>\n",
       "      <td>0</td>\n",
       "      <td>0</td>\n",
       "      <td>0</td>\n",
       "      <td>0</td>\n",
       "      <td>0</td>\n",
       "      <td>...</td>\n",
       "      <td>0</td>\n",
       "      <td>0</td>\n",
       "      <td>0</td>\n",
       "      <td>0</td>\n",
       "      <td>0</td>\n",
       "      <td>0</td>\n",
       "      <td>1</td>\n",
       "      <td>0</td>\n",
       "      <td>1672441200</td>\n",
       "      <td>430270.553900</td>\n",
       "    </tr>\n",
       "    <tr>\n",
       "      <th>1</th>\n",
       "      <td>22</td>\n",
       "      <td>0</td>\n",
       "      <td>0</td>\n",
       "      <td>1</td>\n",
       "      <td>0</td>\n",
       "      <td>0</td>\n",
       "      <td>0</td>\n",
       "      <td>0</td>\n",
       "      <td>0</td>\n",
       "      <td>0</td>\n",
       "      <td>...</td>\n",
       "      <td>0</td>\n",
       "      <td>0</td>\n",
       "      <td>0</td>\n",
       "      <td>0</td>\n",
       "      <td>0</td>\n",
       "      <td>0</td>\n",
       "      <td>1</td>\n",
       "      <td>0</td>\n",
       "      <td>1672441200</td>\n",
       "      <td>367219.549097</td>\n",
       "    </tr>\n",
       "  </tbody>\n",
       "</table>\n",
       "<p>2 rows × 25 columns</p>\n",
       "</div>"
      ],
      "text/plain": [
       "   surface_reelle  cp_75001  cp_75002  cp_75003  cp_75004  cp_75005  cp_75006  \\\n",
       "0              25         1         0         0         0         0         0   \n",
       "1              22         0         0         1         0         0         0   \n",
       "\n",
       "   cp_75007  cp_75008  cp_75009  ...  cp_75015  cp_75016  cp_75017  cp_75018  \\\n",
       "0         0         0         0  ...         0         0         0         0   \n",
       "1         0         0         0  ...         0         0         0         0   \n",
       "\n",
       "   cp_75019  cp_75020  Appartement  Local industriel. commercial ou assimilé  \\\n",
       "0         0         0            1                                         0   \n",
       "1         0         0            1                                         0   \n",
       "\n",
       "   datetime_int  valeur_fonciere_prediction  \n",
       "0    1672441200               430270.553900  \n",
       "1    1672441200               367219.549097  \n",
       "\n",
       "[2 rows x 25 columns]"
      ]
     },
     "execution_count": 41,
     "metadata": {},
     "output_type": "execute_result"
    }
   ],
   "source": [
    "from sklearn.linear_model import LinearRegression\n",
    "from sklearn.model_selection import train_test_split\n",
    "\n",
    "\n",
    "\n",
    "\n",
    "# Définir le modèle de régression linéaire\n",
    "regr_lin = LinearRegression()\n",
    "\n",
    "# Diviser les données en ensembles d'entraînement et de test\n",
    "X_train, X_test, y_train, y_test = train_test_split(X, y, test_size=0.2, random_state=42)\n",
    "\n",
    "# Entraîner le modèle sur les données d'entraînement\n",
    "regr_lin.fit(X_train, y_train)\n",
    "\n",
    "# Après l'entraînement, vous pouvez effectuer des prédictions\n",
    "y_predict_final = regr_lin.predict(df_portefeuille_actifs_encode)\n",
    "\n",
    "# Afficher les 10 premières valeurs prédites\n",
    "print(y_predict_final[:10])\n",
    "\n",
    "# Créer un DataFrame avec les prédictions\n",
    "df_prediction = df_portefeuille_actifs_encode.copy()\n",
    "df_prediction['valeur_fonciere_prediction'] = y_predict_final\n",
    "df_prediction.head(2)\n"
   ]
  },
  {
   "cell_type": "code",
   "execution_count": 42,
   "id": "9bc0b38b",
   "metadata": {
    "id": "9bc0b38b",
    "outputId": "ed58d50f-6be6-42c3-bd68-27c5626d6f4e"
   },
   "outputs": [
    {
     "data": {
      "text/plain": [
       "Index(['adresse_numero', 'adresse_nom_voie', 'code_postal', 'code_commune',\n",
       "       'nom_commune', 'surface_carrez', 'code_type_local', 'type_local',\n",
       "       'surface_reelle', 'nombre_pieces_principales', 'longitude', 'latitude'],\n",
       "      dtype='object')"
      ]
     },
     "execution_count": 42,
     "metadata": {},
     "output_type": "execute_result"
    }
   ],
   "source": [
    "df_portefeuille_actifs.columns"
   ]
  },
  {
   "cell_type": "markdown",
   "id": "718df322",
   "metadata": {
    "id": "718df322"
   },
   "source": [
    "Maintenant nous allons comparer la valorisation prédite pour les deux segments."
   ]
  },
  {
   "cell_type": "code",
   "execution_count": 43,
   "id": "12094465",
   "metadata": {
    "id": "12094465",
    "outputId": "ce8b1649-4ad8-4586-e571-94f8d875b200"
   },
   "outputs": [
    {
     "name": "stdout",
     "output_type": "stream",
     "text": [
      "La valorisation du segment particulier est (en millions deuros):\n"
     ]
    },
    {
     "data": {
      "text/plain": [
       "71.01816181542625"
      ]
     },
     "execution_count": 43,
     "metadata": {},
     "output_type": "execute_result"
    }
   ],
   "source": [
    "#Valorisation du portefeuille sur le segment des particuliers(appartement(predicition))\n",
    "\n",
    "print('La valorisation du segment particulier est (en millions deuros):')\n",
    "df_prediction.loc[df_prediction['Appartement']==1]['valeur_fonciere_prediction'].sum()/1000000"
   ]
  },
  {
   "cell_type": "code",
   "execution_count": 44,
   "id": "b6df7e85",
   "metadata": {
    "id": "b6df7e85",
    "outputId": "de3bb296-1ecc-4561-ee82-e51a262d3b34"
   },
   "outputs": [
    {
     "name": "stdout",
     "output_type": "stream",
     "text": [
      "la valorisation du segment corporate est (en millions deuros):\n"
     ]
    },
    {
     "data": {
      "text/plain": [
       "97.95357602079314"
      ]
     },
     "execution_count": 44,
     "metadata": {},
     "output_type": "execute_result"
    }
   ],
   "source": [
    "#Valorisation du portefeuille sur le segment corporate(commercial assimilé (prediction))\n",
    "print('la valorisation du segment corporate est (en millions deuros):')\n",
    "df_prediction.loc[df_prediction['Local industriel. commercial ou assimilé']==1]['valeur_fonciere_prediction'].sum()/1000000"
   ]
  },
  {
   "cell_type": "markdown",
   "id": "0372ca62",
   "metadata": {
    "id": "0372ca62"
   },
   "source": [
    "Mes conclusions sur le segment avec la plus grande valorisation et sur les limites de cette estimation :\n",
    "- ?\n",
    "- ?\n",
    " #La valorisation du segment corporate est estimée à 97,95 millions d'euros, contre 71,02 millions d'euros pour le segment particulier. Cette différence de valorisation s'explique par plusieurs facteurs, notamment :\n",
    "\n",
    "#La taille des biens immobiliers concernés : les biens immobiliers corporate sont généralement plus grands et plus complexes que les biens immobiliers particuliers.\n",
    "\"La localisation des biens immobiliers concernés : les biens immobiliers corporate sont souvent situés dans des zones géographiques plus stratégiques que les biens immobiliers particuliers.\n",
    "#La qualité des biens immobiliers concernés : les biens immobiliers corporate sont généralement de meilleure qualité que les biens immobiliers particuliers."
   ]
  },
  {
   "cell_type": "markdown",
   "id": "1c20b98f",
   "metadata": {
    "id": "1c20b98f"
   },
   "source": [
    "# Milestone 4 - Classification des données issues du jeu de test"
   ]
  },
  {
   "cell_type": "markdown",
   "id": "130e73ae",
   "metadata": {
    "id": "130e73ae"
   },
   "source": [
    "Dans cette partie nous allons labelliser automatiquement les biens immobiliers comme étant :\n",
    "- soit des Appartements\n",
    "- soit des Local industriel. commercial ou assimilé\n",
    "Pour cela nous allons utiliser l'algorithme du KMeans sur le jeu de données partagé par l'entreprise.\n",
    "\n",
    "Pour que l'algorithme fonctionne, il faut que nous préparions les données en supprimant les dimensions inutiles et en nous concentrant sur le facteur discriminant entre les appartements et les locaux commerciaux : la différence dans le prix au mètre carré tel que nous l'avons vu avant."
   ]
  },
  {
   "cell_type": "code",
   "execution_count": 45,
   "id": "a2f508e6",
   "metadata": {
    "colab": {
     "base_uri": "https://localhost:8080/",
     "height": 206
    },
    "executionInfo": {
     "elapsed": 617,
     "status": "ok",
     "timestamp": 1703423465496,
     "user": {
      "displayName": "Farhad Seyidov",
      "userId": "09233354394331620593"
     },
     "user_tz": -240
    },
    "id": "a2f508e6",
    "outputId": "b44a3f75-766e-463a-8805-863545ea6df9"
   },
   "outputs": [
    {
     "data": {
      "text/html": [
       "<div>\n",
       "<style scoped>\n",
       "    .dataframe tbody tr th:only-of-type {\n",
       "        vertical-align: middle;\n",
       "    }\n",
       "\n",
       "    .dataframe tbody tr th {\n",
       "        vertical-align: top;\n",
       "    }\n",
       "\n",
       "    .dataframe thead th {\n",
       "        text-align: right;\n",
       "    }\n",
       "</style>\n",
       "<table border=\"1\" class=\"dataframe\">\n",
       "  <thead>\n",
       "    <tr style=\"text-align: right;\">\n",
       "      <th></th>\n",
       "      <th>valeur_fonciere</th>\n",
       "      <th>code_postal</th>\n",
       "      <th>nom_commune</th>\n",
       "      <th>surface_reelle</th>\n",
       "    </tr>\n",
       "  </thead>\n",
       "  <tbody>\n",
       "    <tr>\n",
       "      <th>0</th>\n",
       "      <td>868687.083271</td>\n",
       "      <td>75019</td>\n",
       "      <td>Paris 19e Arrondissement</td>\n",
       "      <td>88</td>\n",
       "    </tr>\n",
       "    <tr>\n",
       "      <th>1</th>\n",
       "      <td>452050.762192</td>\n",
       "      <td>75019</td>\n",
       "      <td>Paris 19e Arrondissement</td>\n",
       "      <td>45</td>\n",
       "    </tr>\n",
       "    <tr>\n",
       "      <th>2</th>\n",
       "      <td>193088.653587</td>\n",
       "      <td>75019</td>\n",
       "      <td>Paris 19e Arrondissement</td>\n",
       "      <td>21</td>\n",
       "    </tr>\n",
       "    <tr>\n",
       "      <th>3</th>\n",
       "      <td>303012.549370</td>\n",
       "      <td>75019</td>\n",
       "      <td>Paris 19e Arrondissement</td>\n",
       "      <td>32</td>\n",
       "    </tr>\n",
       "    <tr>\n",
       "      <th>4</th>\n",
       "      <td>149272.200110</td>\n",
       "      <td>75019</td>\n",
       "      <td>Paris 19e Arrondissement</td>\n",
       "      <td>20</td>\n",
       "    </tr>\n",
       "  </tbody>\n",
       "</table>\n",
       "</div>"
      ],
      "text/plain": [
       "   valeur_fonciere  code_postal               nom_commune  surface_reelle\n",
       "0    868687.083271        75019  Paris 19e Arrondissement              88\n",
       "1    452050.762192        75019  Paris 19e Arrondissement              45\n",
       "2    193088.653587        75019  Paris 19e Arrondissement              21\n",
       "3    303012.549370        75019  Paris 19e Arrondissement              32\n",
       "4    149272.200110        75019  Paris 19e Arrondissement              20"
      ]
     },
     "execution_count": 45,
     "metadata": {},
     "output_type": "execute_result"
    }
   ],
   "source": [
    "#On importe les données dans un dataframe\n",
    "import pandas as pd\n",
    "import numpy as np\n",
    "from sklearn.cluster import KMeans\n",
    "import seaborn as sns\n",
    "import matplotlib.pyplot as plt\n",
    "df_echantillon_a_classer=pd.read_excel(r\"C:\\Users\\M22O101\\Downloads\\Openclasroom\\Projet 8_102023\\echantillon_a_classer.xlsx\")\n",
    "#df_echantillon_a_classer=pd.read_excel(\"/content/echantillon_a_classer.xlsx\")\n",
    "df_echantillon_a_classer.head()"
   ]
  },
  {
   "cell_type": "markdown",
   "id": "fbf40fbf",
   "metadata": {
    "id": "fbf40fbf"
   },
   "source": [
    "On applique les transformations nécessaires. Tout d'abord nous allons calculer le prix au mètre carré en divisant la valeur foncière par la surface. Ensuite nous allons retirer ces colonnes car nous avons déjà l'information qu'elles contiennent dans la dimension prix au mètre carré désormais.\n",
    "\n",
    "Enfin toutes nos données sont de l'année 2021. Nous allons retirer cette dimension qui ne devrait pas être discriminante dans le regroupement des données."
   ]
  },
  {
   "cell_type": "code",
   "execution_count": 46,
   "id": "aaFaOTkV9A-k",
   "metadata": {
    "executionInfo": {
     "elapsed": 469,
     "status": "ok",
     "timestamp": 1703423516362,
     "user": {
      "displayName": "Farhad Seyidov",
      "userId": "09233354394331620593"
     },
     "user_tz": -240
    },
    "id": "aaFaOTkV9A-k"
   },
   "outputs": [],
   "source": [
    "df_echantillon_a_classer['prix_m2'] = df_echantillon_a_classer.valeur_fonciere/df_echantillon_a_classer.surface_reelle"
   ]
  },
  {
   "cell_type": "code",
   "execution_count": 47,
   "id": "6fb96f81",
   "metadata": {
    "colab": {
     "base_uri": "https://localhost:8080/",
     "height": 498
    },
    "executionInfo": {
     "elapsed": 642,
     "status": "ok",
     "timestamp": 1703423518715,
     "user": {
      "displayName": "Farhad Seyidov",
      "userId": "09233354394331620593"
     },
     "user_tz": -240
    },
    "id": "6fb96f81",
    "outputId": "2fa87fd3-747b-4657-ea19-542ab372666c"
   },
   "outputs": [
    {
     "data": {
      "text/plain": [
       "<Axes: xlabel='surface_reelle', ylabel='valeur_fonciere'>"
      ]
     },
     "execution_count": 47,
     "metadata": {},
     "output_type": "execute_result"
    },
    {
     "data": {
      "image/png": "[encoded data removed]",
      "text/plain": [
       "<Figure size 500x500 with 1 Axes>"
      ]
     },
     "metadata": {},
     "output_type": "display_data"
    }
   ],
   "source": [
    "plt.figure(figsize = (5,5))\n",
    "sns.scatterplot(data = df_echantillon_a_classer, x = 'surface_reelle', y = 'valeur_fonciere', hue = 'prix_m2')\n",
    "\n",
    "# le graphique en nuage de points montre que la surface reelle ont généralement une valeur foncière élevée.\n",
    "#Cependant, il existe également la petite surface avec une valeur foncière élevée"
   ]
  },
  {
   "cell_type": "markdown",
   "id": "d3cd06b4",
   "metadata": {
    "id": "d3cd06b4"
   },
   "source": [
    "Nous observons dans les données que nous avons des valeurs différentes de prix au mètre carré pour un même arrondissement (ici le 19ème arrondissement). Il se peut fort que cela soit notre dimension à utiliser pour attribuer les prix au mètre carré les plus élévé dans un département aux locaux commerciaux, et les prix les plus bas aux appartements.\n",
    "\n",
    "Pour effectuer cette opération, nous allons utiliser l'algorithme du Kmeans qui va rechercher 2 centroïdes à travers les données."
   ]
  },
  {
   "cell_type": "code",
   "execution_count": 48,
   "id": "4cd15e98",
   "metadata": {
    "executionInfo": {
     "elapsed": 444,
     "status": "ok",
     "timestamp": 1703423523114,
     "user": {
      "displayName": "Farhad Seyidov",
      "userId": "09233354394331620593"
     },
     "user_tz": -240
    },
    "id": "4cd15e98"
   },
   "outputs": [],
   "source": [
    "\n",
    "\n",
    "from sklearn.cluster import KMeans\n",
    "#'importation de la classe KMeans permet d'utiliser l'algorithme k-means pour grouper les actifs en fonction de leurs caractéristiques."
   ]
  },
  {
   "cell_type": "code",
   "execution_count": 49,
   "id": "8c9e34c2",
   "metadata": {
    "colab": {
     "base_uri": "https://localhost:8080/"
    },
    "executionInfo": {
     "elapsed": 7,
     "status": "ok",
     "timestamp": 1703423524594,
     "user": {
      "displayName": "Farhad Seyidov",
      "userId": "09233354394331620593"
     },
     "user_tz": -240
    },
    "id": "8c9e34c2",
    "outputId": "f836e539-0fdd-4db6-f58e-bb2d39aae3f2"
   },
   "outputs": [],
   "source": [
    "#Ce code utilise l'algorithme de clustering K-Means pour effectuer le clustering sur une seule variable, \"prix_m2\", dans le DataFrame df_echantillon_a_classer\n",
    "algorithm = KMeans(n_clusters = 2)\n",
    "algorithm.fit_predict(df_echantillon_a_classer[[\"prix_m2\"]])\n",
    "labels=algorithm.labels_"
   ]
  },
  {
   "cell_type": "code",
   "execution_count": 50,
   "id": "e6b6cae0",
   "metadata": {
    "colab": {
     "base_uri": "https://localhost:8080/",
     "height": 206
    },
    "executionInfo": {
     "elapsed": 463,
     "status": "ok",
     "timestamp": 1703423526888,
     "user": {
      "displayName": "Farhad Seyidov",
      "userId": "09233354394331620593"
     },
     "user_tz": -240
    },
    "id": "e6b6cae0",
    "outputId": "70a0b101-aede-4ca0-af94-d7ecd1676fe8",
    "scrolled": false
   },
   "outputs": [
    {
     "data": {
      "text/html": [
       "<div>\n",
       "<style scoped>\n",
       "    .dataframe tbody tr th:only-of-type {\n",
       "        vertical-align: middle;\n",
       "    }\n",
       "\n",
       "    .dataframe tbody tr th {\n",
       "        vertical-align: top;\n",
       "    }\n",
       "\n",
       "    .dataframe thead th {\n",
       "        text-align: right;\n",
       "    }\n",
       "</style>\n",
       "<table border=\"1\" class=\"dataframe\">\n",
       "  <thead>\n",
       "    <tr style=\"text-align: right;\">\n",
       "      <th></th>\n",
       "      <th>prix_m2</th>\n",
       "      <th>Labels</th>\n",
       "    </tr>\n",
       "  </thead>\n",
       "  <tbody>\n",
       "    <tr>\n",
       "      <th>0</th>\n",
       "      <td>9871.444128</td>\n",
       "      <td>1</td>\n",
       "    </tr>\n",
       "    <tr>\n",
       "      <th>1</th>\n",
       "      <td>10045.572493</td>\n",
       "      <td>1</td>\n",
       "    </tr>\n",
       "    <tr>\n",
       "      <th>2</th>\n",
       "      <td>9194.697790</td>\n",
       "      <td>1</td>\n",
       "    </tr>\n",
       "    <tr>\n",
       "      <th>3</th>\n",
       "      <td>9469.142168</td>\n",
       "      <td>1</td>\n",
       "    </tr>\n",
       "    <tr>\n",
       "      <th>4</th>\n",
       "      <td>7463.610005</td>\n",
       "      <td>0</td>\n",
       "    </tr>\n",
       "  </tbody>\n",
       "</table>\n",
       "</div>"
      ],
      "text/plain": [
       "        prix_m2  Labels\n",
       "0   9871.444128       1\n",
       "1  10045.572493       1\n",
       "2   9194.697790       1\n",
       "3   9469.142168       1\n",
       "4   7463.610005       0"
      ]
     },
     "execution_count": 50,
     "metadata": {},
     "output_type": "execute_result"
    }
   ],
   "source": [
    "#Pour la visualisation, nous devons créer un DataFrame contenant les caractéristiques d'origine et leurs étiquettes obtenues  correspondantes a partir de l'algorithme K-Means\n",
    "labels=pd.DataFrame(labels, columns=['Labels'])\n",
    "df = pd.DataFrame(df_echantillon_a_classer[\"prix_m2\"])\n",
    "data=pd.concat([df, labels], axis=1)\n",
    "data.head()"
   ]
  },
  {
   "cell_type": "code",
   "execution_count": 63,
   "id": "469041ea",
   "metadata": {
    "colab": {
     "base_uri": "https://localhost:8080/",
     "height": 483
    },
    "executionInfo": {
     "elapsed": 582,
     "status": "ok",
     "timestamp": 1703423530285,
     "user": {
      "displayName": "Farhad Seyidov",
      "userId": "09233354394331620593"
     },
     "user_tz": -240
    },
    "id": "469041ea",
    "outputId": "f7655c00-2c02-4e64-c3cb-375324057d00"
   },
   "outputs": [
    {
     "data": {
      "text/plain": [
       "<Axes: xlabel='prix_m2'>"
      ]
     },
     "execution_count": 63,
     "metadata": {},
     "output_type": "execute_result"
    },
    {
     "data": {
      "image/png": "[encoded data removed]",
      "text/plain": [
       "<Figure size 500x500 with 1 Axes>"
      ]
     },
     "metadata": {},
     "output_type": "display_data"
    }
   ],
   "source": [
    "#Ce code utilise les bibliothèques matplotlib.pyplot et seaborn en Python pour créer un strip plot qui représente la distribution de la variable \"prix_m2\" en fonction des clusters attribués par l'algorithme K-Means\n",
    "plt.figure(figsize=(5,5))\n",
    "sns.stripplot(data=data, x=\"prix_m2\", hue = 'Labels')\n"
   ]
  },
  {
   "cell_type": "code",
   "execution_count": 52,
   "id": "78b97462",
   "metadata": {},
   "outputs": [
    {
     "data": {
      "text/plain": [
       "<matplotlib.collections.PathCollection at 0x207317c7880>"
      ]
     },
     "execution_count": 52,
     "metadata": {},
     "output_type": "execute_result"
    },
    {
     "data": {
      "image/png": "[encoded data removed]",
      "text/plain": [
       "<Figure size 640x480 with 1 Axes>"
      ]
     },
     "metadata": {},
     "output_type": "display_data"
    }
   ],
   "source": [
    "scatter = plt.scatter(data[\"prix_m2\"], data[\"Labels\"], c=data[\"Labels\"])\n",
    "plt.legend(handles=scatter.legend_elements()[0], labels=['0','1'])\n",
    "plt.scatter(algorithm.cluster_centers_[0],0, c=\"red\", marker = \"D\", s=60)\n",
    "plt.scatter(algorithm.cluster_centers_[1],1, c=\"red\", marker = \"D\", s=60)"
   ]
  },
  {
   "cell_type": "code",
   "execution_count": 53,
   "id": "caf4fca2",
   "metadata": {
    "colab": {
     "base_uri": "https://localhost:8080/",
     "height": 1000
    },
    "executionInfo": {
     "elapsed": 481,
     "status": "ok",
     "timestamp": 1703423533097,
     "user": {
      "displayName": "Farhad Seyidov",
      "userId": "09233354394331620593"
     },
     "user_tz": -240
    },
    "id": "caf4fca2",
    "outputId": "85be2241-70ce-460c-e219-a70c9c0b39e6"
   },
   "outputs": [
    {
     "data": {
      "text/html": [
       "<div>\n",
       "<style scoped>\n",
       "    .dataframe tbody tr th:only-of-type {\n",
       "        vertical-align: middle;\n",
       "    }\n",
       "\n",
       "    .dataframe tbody tr th {\n",
       "        vertical-align: top;\n",
       "    }\n",
       "\n",
       "    .dataframe thead th {\n",
       "        text-align: right;\n",
       "    }\n",
       "</style>\n",
       "<table border=\"1\" class=\"dataframe\">\n",
       "  <thead>\n",
       "    <tr style=\"text-align: right;\">\n",
       "      <th></th>\n",
       "      <th>valeur_fonciere</th>\n",
       "      <th>code_postal</th>\n",
       "      <th>nom_commune</th>\n",
       "      <th>surface_reelle</th>\n",
       "      <th>prix_m2</th>\n",
       "      <th>Labels</th>\n",
       "    </tr>\n",
       "  </thead>\n",
       "  <tbody>\n",
       "    <tr>\n",
       "      <th>21</th>\n",
       "      <td>252252.617055</td>\n",
       "      <td>75019</td>\n",
       "      <td>Paris 19e Arrondissement</td>\n",
       "      <td>35</td>\n",
       "      <td>7207.217630</td>\n",
       "      <td>0</td>\n",
       "    </tr>\n",
       "    <tr>\n",
       "      <th>12</th>\n",
       "      <td>188198.997288</td>\n",
       "      <td>75019</td>\n",
       "      <td>Paris 19e Arrondissement</td>\n",
       "      <td>26</td>\n",
       "      <td>7238.422973</td>\n",
       "      <td>0</td>\n",
       "    </tr>\n",
       "    <tr>\n",
       "      <th>35</th>\n",
       "      <td>456118.944103</td>\n",
       "      <td>75019</td>\n",
       "      <td>Paris 19e Arrondissement</td>\n",
       "      <td>63</td>\n",
       "      <td>7239.983240</td>\n",
       "      <td>0</td>\n",
       "    </tr>\n",
       "    <tr>\n",
       "      <th>34</th>\n",
       "      <td>160472.445205</td>\n",
       "      <td>75019</td>\n",
       "      <td>Paris 19e Arrondissement</td>\n",
       "      <td>22</td>\n",
       "      <td>7294.202055</td>\n",
       "      <td>0</td>\n",
       "    </tr>\n",
       "    <tr>\n",
       "      <th>19</th>\n",
       "      <td>269985.318855</td>\n",
       "      <td>75019</td>\n",
       "      <td>Paris 19e Arrondissement</td>\n",
       "      <td>37</td>\n",
       "      <td>7296.900510</td>\n",
       "      <td>0</td>\n",
       "    </tr>\n",
       "    <tr>\n",
       "      <th>25</th>\n",
       "      <td>255738.359589</td>\n",
       "      <td>75019</td>\n",
       "      <td>Paris 19e Arrondissement</td>\n",
       "      <td>35</td>\n",
       "      <td>7306.810274</td>\n",
       "      <td>0</td>\n",
       "    </tr>\n",
       "    <tr>\n",
       "      <th>15</th>\n",
       "      <td>299837.689726</td>\n",
       "      <td>75019</td>\n",
       "      <td>Paris 19e Arrondissement</td>\n",
       "      <td>41</td>\n",
       "      <td>7313.114384</td>\n",
       "      <td>0</td>\n",
       "    </tr>\n",
       "    <tr>\n",
       "      <th>20</th>\n",
       "      <td>256289.969178</td>\n",
       "      <td>75019</td>\n",
       "      <td>Paris 19e Arrondissement</td>\n",
       "      <td>35</td>\n",
       "      <td>7322.570548</td>\n",
       "      <td>0</td>\n",
       "    </tr>\n",
       "    <tr>\n",
       "      <th>14</th>\n",
       "      <td>323115.729863</td>\n",
       "      <td>75019</td>\n",
       "      <td>Paris 19e Arrondissement</td>\n",
       "      <td>44</td>\n",
       "      <td>7343.539315</td>\n",
       "      <td>0</td>\n",
       "    </tr>\n",
       "    <tr>\n",
       "      <th>7</th>\n",
       "      <td>462981.797149</td>\n",
       "      <td>75019</td>\n",
       "      <td>Paris 19e Arrondissement</td>\n",
       "      <td>63</td>\n",
       "      <td>7348.917415</td>\n",
       "      <td>0</td>\n",
       "    </tr>\n",
       "    <tr>\n",
       "      <th>24</th>\n",
       "      <td>177582.384658</td>\n",
       "      <td>75019</td>\n",
       "      <td>Paris 19e Arrondissement</td>\n",
       "      <td>24</td>\n",
       "      <td>7399.266027</td>\n",
       "      <td>0</td>\n",
       "    </tr>\n",
       "    <tr>\n",
       "      <th>16</th>\n",
       "      <td>385609.346236</td>\n",
       "      <td>75019</td>\n",
       "      <td>Paris 19e Arrondissement</td>\n",
       "      <td>52</td>\n",
       "      <td>7415.564351</td>\n",
       "      <td>0</td>\n",
       "    </tr>\n",
       "    <tr>\n",
       "      <th>23</th>\n",
       "      <td>483462.212110</td>\n",
       "      <td>75019</td>\n",
       "      <td>Paris 19e Arrondissement</td>\n",
       "      <td>65</td>\n",
       "      <td>7437.880186</td>\n",
       "      <td>0</td>\n",
       "    </tr>\n",
       "    <tr>\n",
       "      <th>4</th>\n",
       "      <td>149272.200110</td>\n",
       "      <td>75019</td>\n",
       "      <td>Paris 19e Arrondissement</td>\n",
       "      <td>20</td>\n",
       "      <td>7463.610005</td>\n",
       "      <td>0</td>\n",
       "    </tr>\n",
       "    <tr>\n",
       "      <th>10</th>\n",
       "      <td>374523.452055</td>\n",
       "      <td>75019</td>\n",
       "      <td>Paris 19e Arrondissement</td>\n",
       "      <td>50</td>\n",
       "      <td>7490.469041</td>\n",
       "      <td>0</td>\n",
       "    </tr>\n",
       "    <tr>\n",
       "      <th>33</th>\n",
       "      <td>113655.667808</td>\n",
       "      <td>75019</td>\n",
       "      <td>Paris 19e Arrondissement</td>\n",
       "      <td>15</td>\n",
       "      <td>7577.044521</td>\n",
       "      <td>0</td>\n",
       "    </tr>\n",
       "    <tr>\n",
       "      <th>37</th>\n",
       "      <td>379199.041849</td>\n",
       "      <td>75019</td>\n",
       "      <td>Paris 19e Arrondissement</td>\n",
       "      <td>50</td>\n",
       "      <td>7583.980837</td>\n",
       "      <td>0</td>\n",
       "    </tr>\n",
       "    <tr>\n",
       "      <th>29</th>\n",
       "      <td>129429.748549</td>\n",
       "      <td>75019</td>\n",
       "      <td>Paris 19e Arrondissement</td>\n",
       "      <td>17</td>\n",
       "      <td>7613.514621</td>\n",
       "      <td>0</td>\n",
       "    </tr>\n",
       "    <tr>\n",
       "      <th>9</th>\n",
       "      <td>403670.310822</td>\n",
       "      <td>75019</td>\n",
       "      <td>Paris 19e Arrondissement</td>\n",
       "      <td>53</td>\n",
       "      <td>7616.420959</td>\n",
       "      <td>0</td>\n",
       "    </tr>\n",
       "    <tr>\n",
       "      <th>31</th>\n",
       "      <td>191651.792500</td>\n",
       "      <td>75019</td>\n",
       "      <td>Paris 19e Arrondissement</td>\n",
       "      <td>25</td>\n",
       "      <td>7666.071700</td>\n",
       "      <td>0</td>\n",
       "    </tr>\n",
       "    <tr>\n",
       "      <th>2</th>\n",
       "      <td>193088.653587</td>\n",
       "      <td>75019</td>\n",
       "      <td>Paris 19e Arrondissement</td>\n",
       "      <td>21</td>\n",
       "      <td>9194.697790</td>\n",
       "      <td>1</td>\n",
       "    </tr>\n",
       "    <tr>\n",
       "      <th>3</th>\n",
       "      <td>303012.549370</td>\n",
       "      <td>75019</td>\n",
       "      <td>Paris 19e Arrondissement</td>\n",
       "      <td>32</td>\n",
       "      <td>9469.142168</td>\n",
       "      <td>1</td>\n",
       "    </tr>\n",
       "    <tr>\n",
       "      <th>11</th>\n",
       "      <td>371204.968028</td>\n",
       "      <td>75019</td>\n",
       "      <td>Paris 19e Arrondissement</td>\n",
       "      <td>39</td>\n",
       "      <td>9518.076103</td>\n",
       "      <td>1</td>\n",
       "    </tr>\n",
       "    <tr>\n",
       "      <th>28</th>\n",
       "      <td>537467.363310</td>\n",
       "      <td>75019</td>\n",
       "      <td>Paris 19e Arrondissement</td>\n",
       "      <td>56</td>\n",
       "      <td>9597.631488</td>\n",
       "      <td>1</td>\n",
       "    </tr>\n",
       "    <tr>\n",
       "      <th>6</th>\n",
       "      <td>241856.569418</td>\n",
       "      <td>75019</td>\n",
       "      <td>Paris 19e Arrondissement</td>\n",
       "      <td>25</td>\n",
       "      <td>9674.262777</td>\n",
       "      <td>1</td>\n",
       "    </tr>\n",
       "    <tr>\n",
       "      <th>36</th>\n",
       "      <td>194310.633151</td>\n",
       "      <td>75019</td>\n",
       "      <td>Paris 19e Arrondissement</td>\n",
       "      <td>20</td>\n",
       "      <td>9715.531658</td>\n",
       "      <td>1</td>\n",
       "    </tr>\n",
       "    <tr>\n",
       "      <th>30</th>\n",
       "      <td>457531.863242</td>\n",
       "      <td>75019</td>\n",
       "      <td>Paris 19e Arrondissement</td>\n",
       "      <td>47</td>\n",
       "      <td>9734.720495</td>\n",
       "      <td>1</td>\n",
       "    </tr>\n",
       "    <tr>\n",
       "      <th>39</th>\n",
       "      <td>938062.665205</td>\n",
       "      <td>75019</td>\n",
       "      <td>Paris 19e Arrondissement</td>\n",
       "      <td>96</td>\n",
       "      <td>9771.486096</td>\n",
       "      <td>1</td>\n",
       "    </tr>\n",
       "    <tr>\n",
       "      <th>8</th>\n",
       "      <td>518819.726233</td>\n",
       "      <td>75019</td>\n",
       "      <td>Paris 19e Arrondissement</td>\n",
       "      <td>53</td>\n",
       "      <td>9789.051438</td>\n",
       "      <td>1</td>\n",
       "    </tr>\n",
       "    <tr>\n",
       "      <th>22</th>\n",
       "      <td>588958.335493</td>\n",
       "      <td>75019</td>\n",
       "      <td>Paris 19e Arrondissement</td>\n",
       "      <td>60</td>\n",
       "      <td>9815.972258</td>\n",
       "      <td>1</td>\n",
       "    </tr>\n",
       "    <tr>\n",
       "      <th>13</th>\n",
       "      <td>384909.031356</td>\n",
       "      <td>75019</td>\n",
       "      <td>Paris 19e Arrondissement</td>\n",
       "      <td>39</td>\n",
       "      <td>9869.462342</td>\n",
       "      <td>1</td>\n",
       "    </tr>\n",
       "    <tr>\n",
       "      <th>0</th>\n",
       "      <td>868687.083271</td>\n",
       "      <td>75019</td>\n",
       "      <td>Paris 19e Arrondissement</td>\n",
       "      <td>88</td>\n",
       "      <td>9871.444128</td>\n",
       "      <td>1</td>\n",
       "    </tr>\n",
       "    <tr>\n",
       "      <th>17</th>\n",
       "      <td>985004.900753</td>\n",
       "      <td>75019</td>\n",
       "      <td>Paris 19e Arrondissement</td>\n",
       "      <td>99</td>\n",
       "      <td>9949.544452</td>\n",
       "      <td>1</td>\n",
       "    </tr>\n",
       "    <tr>\n",
       "      <th>26</th>\n",
       "      <td>298834.405808</td>\n",
       "      <td>75019</td>\n",
       "      <td>Paris 19e Arrondissement</td>\n",
       "      <td>30</td>\n",
       "      <td>9961.146860</td>\n",
       "      <td>1</td>\n",
       "    </tr>\n",
       "    <tr>\n",
       "      <th>18</th>\n",
       "      <td>249469.620558</td>\n",
       "      <td>75019</td>\n",
       "      <td>Paris 19e Arrondissement</td>\n",
       "      <td>25</td>\n",
       "      <td>9978.784822</td>\n",
       "      <td>1</td>\n",
       "    </tr>\n",
       "    <tr>\n",
       "      <th>5</th>\n",
       "      <td>179676.304545</td>\n",
       "      <td>75019</td>\n",
       "      <td>Paris 19e Arrondissement</td>\n",
       "      <td>18</td>\n",
       "      <td>9982.016919</td>\n",
       "      <td>1</td>\n",
       "    </tr>\n",
       "    <tr>\n",
       "      <th>38</th>\n",
       "      <td>628966.283383</td>\n",
       "      <td>75019</td>\n",
       "      <td>Paris 19e Arrondissement</td>\n",
       "      <td>63</td>\n",
       "      <td>9983.591800</td>\n",
       "      <td>1</td>\n",
       "    </tr>\n",
       "    <tr>\n",
       "      <th>1</th>\n",
       "      <td>452050.762192</td>\n",
       "      <td>75019</td>\n",
       "      <td>Paris 19e Arrondissement</td>\n",
       "      <td>45</td>\n",
       "      <td>10045.572493</td>\n",
       "      <td>1</td>\n",
       "    </tr>\n",
       "    <tr>\n",
       "      <th>27</th>\n",
       "      <td>333404.332032</td>\n",
       "      <td>75019</td>\n",
       "      <td>Paris 19e Arrondissement</td>\n",
       "      <td>33</td>\n",
       "      <td>10103.161577</td>\n",
       "      <td>1</td>\n",
       "    </tr>\n",
       "    <tr>\n",
       "      <th>32</th>\n",
       "      <td>991093.190548</td>\n",
       "      <td>75019</td>\n",
       "      <td>Paris 19e Arrondissement</td>\n",
       "      <td>98</td>\n",
       "      <td>10113.195822</td>\n",
       "      <td>1</td>\n",
       "    </tr>\n",
       "  </tbody>\n",
       "</table>\n",
       "</div>"
      ],
      "text/plain": [
       "    valeur_fonciere  code_postal               nom_commune  surface_reelle  \\\n",
       "21    252252.617055        75019  Paris 19e Arrondissement              35   \n",
       "12    188198.997288        75019  Paris 19e Arrondissement              26   \n",
       "35    456118.944103        75019  Paris 19e Arrondissement              63   \n",
       "34    160472.445205        75019  Paris 19e Arrondissement              22   \n",
       "19    269985.318855        75019  Paris 19e Arrondissement              37   \n",
       "25    255738.359589        75019  Paris 19e Arrondissement              35   \n",
       "15    299837.689726        75019  Paris 19e Arrondissement              41   \n",
       "20    256289.969178        75019  Paris 19e Arrondissement              35   \n",
       "14    323115.729863        75019  Paris 19e Arrondissement              44   \n",
       "7     462981.797149        75019  Paris 19e Arrondissement              63   \n",
       "24    177582.384658        75019  Paris 19e Arrondissement              24   \n",
       "16    385609.346236        75019  Paris 19e Arrondissement              52   \n",
       "23    483462.212110        75019  Paris 19e Arrondissement              65   \n",
       "4     149272.200110        75019  Paris 19e Arrondissement              20   \n",
       "10    374523.452055        75019  Paris 19e Arrondissement              50   \n",
       "33    113655.667808        75019  Paris 19e Arrondissement              15   \n",
       "37    379199.041849        75019  Paris 19e Arrondissement              50   \n",
       "29    129429.748549        75019  Paris 19e Arrondissement              17   \n",
       "9     403670.310822        75019  Paris 19e Arrondissement              53   \n",
       "31    191651.792500        75019  Paris 19e Arrondissement              25   \n",
       "2     193088.653587        75019  Paris 19e Arrondissement              21   \n",
       "3     303012.549370        75019  Paris 19e Arrondissement              32   \n",
       "11    371204.968028        75019  Paris 19e Arrondissement              39   \n",
       "28    537467.363310        75019  Paris 19e Arrondissement              56   \n",
       "6     241856.569418        75019  Paris 19e Arrondissement              25   \n",
       "36    194310.633151        75019  Paris 19e Arrondissement              20   \n",
       "30    457531.863242        75019  Paris 19e Arrondissement              47   \n",
       "39    938062.665205        75019  Paris 19e Arrondissement              96   \n",
       "8     518819.726233        75019  Paris 19e Arrondissement              53   \n",
       "22    588958.335493        75019  Paris 19e Arrondissement              60   \n",
       "13    384909.031356        75019  Paris 19e Arrondissement              39   \n",
       "0     868687.083271        75019  Paris 19e Arrondissement              88   \n",
       "17    985004.900753        75019  Paris 19e Arrondissement              99   \n",
       "26    298834.405808        75019  Paris 19e Arrondissement              30   \n",
       "18    249469.620558        75019  Paris 19e Arrondissement              25   \n",
       "5     179676.304545        75019  Paris 19e Arrondissement              18   \n",
       "38    628966.283383        75019  Paris 19e Arrondissement              63   \n",
       "1     452050.762192        75019  Paris 19e Arrondissement              45   \n",
       "27    333404.332032        75019  Paris 19e Arrondissement              33   \n",
       "32    991093.190548        75019  Paris 19e Arrondissement              98   \n",
       "\n",
       "         prix_m2  Labels  \n",
       "21   7207.217630       0  \n",
       "12   7238.422973       0  \n",
       "35   7239.983240       0  \n",
       "34   7294.202055       0  \n",
       "19   7296.900510       0  \n",
       "25   7306.810274       0  \n",
       "15   7313.114384       0  \n",
       "20   7322.570548       0  \n",
       "14   7343.539315       0  \n",
       "7    7348.917415       0  \n",
       "24   7399.266027       0  \n",
       "16   7415.564351       0  \n",
       "23   7437.880186       0  \n",
       "4    7463.610005       0  \n",
       "10   7490.469041       0  \n",
       "33   7577.044521       0  \n",
       "37   7583.980837       0  \n",
       "29   7613.514621       0  \n",
       "9    7616.420959       0  \n",
       "31   7666.071700       0  \n",
       "2    9194.697790       1  \n",
       "3    9469.142168       1  \n",
       "11   9518.076103       1  \n",
       "28   9597.631488       1  \n",
       "6    9674.262777       1  \n",
       "36   9715.531658       1  \n",
       "30   9734.720495       1  \n",
       "39   9771.486096       1  \n",
       "8    9789.051438       1  \n",
       "22   9815.972258       1  \n",
       "13   9869.462342       1  \n",
       "0    9871.444128       1  \n",
       "17   9949.544452       1  \n",
       "26   9961.146860       1  \n",
       "18   9978.784822       1  \n",
       "5    9982.016919       1  \n",
       "38   9983.591800       1  \n",
       "1   10045.572493       1  \n",
       "27  10103.161577       1  \n",
       "32  10113.195822       1  "
      ]
     },
     "execution_count": 53,
     "metadata": {},
     "output_type": "execute_result"
    }
   ],
   "source": [
    "#Ce code utilise la fonction pd.concat() de la bibliothèque pandas pour fusionner deux DataFrames sur l'axe des colonnes (axis=1), combinant ainsi les données de df_echantillon_a_classer avec les étiquettes de clusters contenues dans la colonne 'Labels' du DataFrame data.\n",
    "dataframe = pd.concat([df_echantillon_a_classer, data['Labels']], axis = 1)\n",
    "dataframe.sort_values(by='prix_m2')\n",
    "#A partir d'ici cluster 1 c'est le cluster  des appartements parce que prix_m2 coute moins cher que cluster 0\n",
    "#Cluster 0 c'est cluster de Local Indistriuelle"
   ]
  },
  {
   "cell_type": "markdown",
   "id": "b19ee04c",
   "metadata": {
    "id": "b19ee04c"
   },
   "source": [
    "Nous avons obtenu notre prédiction. Nous pouvons changer les labels et remplacer les valeurs à 0 par Local industriel. commercial ou assimilé et les valeurs à +1 par Appartement."
   ]
  },
  {
   "cell_type": "code",
   "execution_count": 54,
   "id": "57d38906",
   "metadata": {
    "executionInfo": {
     "elapsed": 7,
     "status": "ok",
     "timestamp": 1703423537929,
     "user": {
      "displayName": "Farhad Seyidov",
      "userId": "09233354394331620593"
     },
     "user_tz": -240
    },
    "id": "57d38906"
   },
   "outputs": [],
   "source": [
    "#Ce code ajoute une nouvelle colonne 'label' au DataFrame dataframe en fonction des valeurs de la colonne 'Labels'.\n",
    "#Il semble attribuer des étiquettes spécifiques en fonction des clusters (labels) obtenus à partir de l'algorithme K-Means\n",
    "for i in dataframe.index:\n",
    "    if round(dataframe.loc[i,'Labels'])==1:\n",
    "        dataframe.loc[i,'type_local']='Appartement'\n",
    "        dataframe.loc[i,'code_type_local']=int(2)\n",
    "    else :\n",
    "        dataframe.loc[i,'type_local']='Local industriel. commercial ou assimilé'\n",
    "        dataframe.loc[i,'code_type_local']=int(4)\n",
    "dataframe['code_type_local']=dataframe['code_type_local'].astype(int)"
   ]
  },
  {
   "cell_type": "code",
   "execution_count": 55,
   "id": "162f68fd",
   "metadata": {
    "colab": {
     "base_uri": "https://localhost:8080/",
     "height": 1000
    },
    "executionInfo": {
     "elapsed": 503,
     "status": "ok",
     "timestamp": 1703423541202,
     "user": {
      "displayName": "Farhad Seyidov",
      "userId": "09233354394331620593"
     },
     "user_tz": -240
    },
    "id": "162f68fd",
    "outputId": "2dd66a67-7b1f-4467-98b5-d86dfa2adfa3",
    "scrolled": true
   },
   "outputs": [
    {
     "data": {
      "text/html": [
       "<div>\n",
       "<style scoped>\n",
       "    .dataframe tbody tr th:only-of-type {\n",
       "        vertical-align: middle;\n",
       "    }\n",
       "\n",
       "    .dataframe tbody tr th {\n",
       "        vertical-align: top;\n",
       "    }\n",
       "\n",
       "    .dataframe thead th {\n",
       "        text-align: right;\n",
       "    }\n",
       "</style>\n",
       "<table border=\"1\" class=\"dataframe\">\n",
       "  <thead>\n",
       "    <tr style=\"text-align: right;\">\n",
       "      <th></th>\n",
       "      <th>valeur_fonciere</th>\n",
       "      <th>code_postal</th>\n",
       "      <th>nom_commune</th>\n",
       "      <th>surface_reelle</th>\n",
       "      <th>prix_m2</th>\n",
       "      <th>Labels</th>\n",
       "      <th>type_local</th>\n",
       "      <th>code_type_local</th>\n",
       "    </tr>\n",
       "  </thead>\n",
       "  <tbody>\n",
       "    <tr>\n",
       "      <th>0</th>\n",
       "      <td>868687.083271</td>\n",
       "      <td>75019</td>\n",
       "      <td>Paris 19e Arrondissement</td>\n",
       "      <td>88</td>\n",
       "      <td>9871.444128</td>\n",
       "      <td>1</td>\n",
       "      <td>Appartement</td>\n",
       "      <td>2</td>\n",
       "    </tr>\n",
       "    <tr>\n",
       "      <th>1</th>\n",
       "      <td>452050.762192</td>\n",
       "      <td>75019</td>\n",
       "      <td>Paris 19e Arrondissement</td>\n",
       "      <td>45</td>\n",
       "      <td>10045.572493</td>\n",
       "      <td>1</td>\n",
       "      <td>Appartement</td>\n",
       "      <td>2</td>\n",
       "    </tr>\n",
       "    <tr>\n",
       "      <th>2</th>\n",
       "      <td>193088.653587</td>\n",
       "      <td>75019</td>\n",
       "      <td>Paris 19e Arrondissement</td>\n",
       "      <td>21</td>\n",
       "      <td>9194.697790</td>\n",
       "      <td>1</td>\n",
       "      <td>Appartement</td>\n",
       "      <td>2</td>\n",
       "    </tr>\n",
       "    <tr>\n",
       "      <th>3</th>\n",
       "      <td>303012.549370</td>\n",
       "      <td>75019</td>\n",
       "      <td>Paris 19e Arrondissement</td>\n",
       "      <td>32</td>\n",
       "      <td>9469.142168</td>\n",
       "      <td>1</td>\n",
       "      <td>Appartement</td>\n",
       "      <td>2</td>\n",
       "    </tr>\n",
       "    <tr>\n",
       "      <th>4</th>\n",
       "      <td>149272.200110</td>\n",
       "      <td>75019</td>\n",
       "      <td>Paris 19e Arrondissement</td>\n",
       "      <td>20</td>\n",
       "      <td>7463.610005</td>\n",
       "      <td>0</td>\n",
       "      <td>Local industriel. commercial ou assimilé</td>\n",
       "      <td>4</td>\n",
       "    </tr>\n",
       "    <tr>\n",
       "      <th>5</th>\n",
       "      <td>179676.304545</td>\n",
       "      <td>75019</td>\n",
       "      <td>Paris 19e Arrondissement</td>\n",
       "      <td>18</td>\n",
       "      <td>9982.016919</td>\n",
       "      <td>1</td>\n",
       "      <td>Appartement</td>\n",
       "      <td>2</td>\n",
       "    </tr>\n",
       "    <tr>\n",
       "      <th>6</th>\n",
       "      <td>241856.569418</td>\n",
       "      <td>75019</td>\n",
       "      <td>Paris 19e Arrondissement</td>\n",
       "      <td>25</td>\n",
       "      <td>9674.262777</td>\n",
       "      <td>1</td>\n",
       "      <td>Appartement</td>\n",
       "      <td>2</td>\n",
       "    </tr>\n",
       "    <tr>\n",
       "      <th>7</th>\n",
       "      <td>462981.797149</td>\n",
       "      <td>75019</td>\n",
       "      <td>Paris 19e Arrondissement</td>\n",
       "      <td>63</td>\n",
       "      <td>7348.917415</td>\n",
       "      <td>0</td>\n",
       "      <td>Local industriel. commercial ou assimilé</td>\n",
       "      <td>4</td>\n",
       "    </tr>\n",
       "    <tr>\n",
       "      <th>8</th>\n",
       "      <td>518819.726233</td>\n",
       "      <td>75019</td>\n",
       "      <td>Paris 19e Arrondissement</td>\n",
       "      <td>53</td>\n",
       "      <td>9789.051438</td>\n",
       "      <td>1</td>\n",
       "      <td>Appartement</td>\n",
       "      <td>2</td>\n",
       "    </tr>\n",
       "    <tr>\n",
       "      <th>9</th>\n",
       "      <td>403670.310822</td>\n",
       "      <td>75019</td>\n",
       "      <td>Paris 19e Arrondissement</td>\n",
       "      <td>53</td>\n",
       "      <td>7616.420959</td>\n",
       "      <td>0</td>\n",
       "      <td>Local industriel. commercial ou assimilé</td>\n",
       "      <td>4</td>\n",
       "    </tr>\n",
       "    <tr>\n",
       "      <th>10</th>\n",
       "      <td>374523.452055</td>\n",
       "      <td>75019</td>\n",
       "      <td>Paris 19e Arrondissement</td>\n",
       "      <td>50</td>\n",
       "      <td>7490.469041</td>\n",
       "      <td>0</td>\n",
       "      <td>Local industriel. commercial ou assimilé</td>\n",
       "      <td>4</td>\n",
       "    </tr>\n",
       "    <tr>\n",
       "      <th>11</th>\n",
       "      <td>371204.968028</td>\n",
       "      <td>75019</td>\n",
       "      <td>Paris 19e Arrondissement</td>\n",
       "      <td>39</td>\n",
       "      <td>9518.076103</td>\n",
       "      <td>1</td>\n",
       "      <td>Appartement</td>\n",
       "      <td>2</td>\n",
       "    </tr>\n",
       "    <tr>\n",
       "      <th>12</th>\n",
       "      <td>188198.997288</td>\n",
       "      <td>75019</td>\n",
       "      <td>Paris 19e Arrondissement</td>\n",
       "      <td>26</td>\n",
       "      <td>7238.422973</td>\n",
       "      <td>0</td>\n",
       "      <td>Local industriel. commercial ou assimilé</td>\n",
       "      <td>4</td>\n",
       "    </tr>\n",
       "    <tr>\n",
       "      <th>13</th>\n",
       "      <td>384909.031356</td>\n",
       "      <td>75019</td>\n",
       "      <td>Paris 19e Arrondissement</td>\n",
       "      <td>39</td>\n",
       "      <td>9869.462342</td>\n",
       "      <td>1</td>\n",
       "      <td>Appartement</td>\n",
       "      <td>2</td>\n",
       "    </tr>\n",
       "    <tr>\n",
       "      <th>14</th>\n",
       "      <td>323115.729863</td>\n",
       "      <td>75019</td>\n",
       "      <td>Paris 19e Arrondissement</td>\n",
       "      <td>44</td>\n",
       "      <td>7343.539315</td>\n",
       "      <td>0</td>\n",
       "      <td>Local industriel. commercial ou assimilé</td>\n",
       "      <td>4</td>\n",
       "    </tr>\n",
       "    <tr>\n",
       "      <th>15</th>\n",
       "      <td>299837.689726</td>\n",
       "      <td>75019</td>\n",
       "      <td>Paris 19e Arrondissement</td>\n",
       "      <td>41</td>\n",
       "      <td>7313.114384</td>\n",
       "      <td>0</td>\n",
       "      <td>Local industriel. commercial ou assimilé</td>\n",
       "      <td>4</td>\n",
       "    </tr>\n",
       "    <tr>\n",
       "      <th>16</th>\n",
       "      <td>385609.346236</td>\n",
       "      <td>75019</td>\n",
       "      <td>Paris 19e Arrondissement</td>\n",
       "      <td>52</td>\n",
       "      <td>7415.564351</td>\n",
       "      <td>0</td>\n",
       "      <td>Local industriel. commercial ou assimilé</td>\n",
       "      <td>4</td>\n",
       "    </tr>\n",
       "    <tr>\n",
       "      <th>17</th>\n",
       "      <td>985004.900753</td>\n",
       "      <td>75019</td>\n",
       "      <td>Paris 19e Arrondissement</td>\n",
       "      <td>99</td>\n",
       "      <td>9949.544452</td>\n",
       "      <td>1</td>\n",
       "      <td>Appartement</td>\n",
       "      <td>2</td>\n",
       "    </tr>\n",
       "    <tr>\n",
       "      <th>18</th>\n",
       "      <td>249469.620558</td>\n",
       "      <td>75019</td>\n",
       "      <td>Paris 19e Arrondissement</td>\n",
       "      <td>25</td>\n",
       "      <td>9978.784822</td>\n",
       "      <td>1</td>\n",
       "      <td>Appartement</td>\n",
       "      <td>2</td>\n",
       "    </tr>\n",
       "    <tr>\n",
       "      <th>19</th>\n",
       "      <td>269985.318855</td>\n",
       "      <td>75019</td>\n",
       "      <td>Paris 19e Arrondissement</td>\n",
       "      <td>37</td>\n",
       "      <td>7296.900510</td>\n",
       "      <td>0</td>\n",
       "      <td>Local industriel. commercial ou assimilé</td>\n",
       "      <td>4</td>\n",
       "    </tr>\n",
       "    <tr>\n",
       "      <th>20</th>\n",
       "      <td>256289.969178</td>\n",
       "      <td>75019</td>\n",
       "      <td>Paris 19e Arrondissement</td>\n",
       "      <td>35</td>\n",
       "      <td>7322.570548</td>\n",
       "      <td>0</td>\n",
       "      <td>Local industriel. commercial ou assimilé</td>\n",
       "      <td>4</td>\n",
       "    </tr>\n",
       "    <tr>\n",
       "      <th>21</th>\n",
       "      <td>252252.617055</td>\n",
       "      <td>75019</td>\n",
       "      <td>Paris 19e Arrondissement</td>\n",
       "      <td>35</td>\n",
       "      <td>7207.217630</td>\n",
       "      <td>0</td>\n",
       "      <td>Local industriel. commercial ou assimilé</td>\n",
       "      <td>4</td>\n",
       "    </tr>\n",
       "    <tr>\n",
       "      <th>22</th>\n",
       "      <td>588958.335493</td>\n",
       "      <td>75019</td>\n",
       "      <td>Paris 19e Arrondissement</td>\n",
       "      <td>60</td>\n",
       "      <td>9815.972258</td>\n",
       "      <td>1</td>\n",
       "      <td>Appartement</td>\n",
       "      <td>2</td>\n",
       "    </tr>\n",
       "    <tr>\n",
       "      <th>23</th>\n",
       "      <td>483462.212110</td>\n",
       "      <td>75019</td>\n",
       "      <td>Paris 19e Arrondissement</td>\n",
       "      <td>65</td>\n",
       "      <td>7437.880186</td>\n",
       "      <td>0</td>\n",
       "      <td>Local industriel. commercial ou assimilé</td>\n",
       "      <td>4</td>\n",
       "    </tr>\n",
       "    <tr>\n",
       "      <th>24</th>\n",
       "      <td>177582.384658</td>\n",
       "      <td>75019</td>\n",
       "      <td>Paris 19e Arrondissement</td>\n",
       "      <td>24</td>\n",
       "      <td>7399.266027</td>\n",
       "      <td>0</td>\n",
       "      <td>Local industriel. commercial ou assimilé</td>\n",
       "      <td>4</td>\n",
       "    </tr>\n",
       "    <tr>\n",
       "      <th>25</th>\n",
       "      <td>255738.359589</td>\n",
       "      <td>75019</td>\n",
       "      <td>Paris 19e Arrondissement</td>\n",
       "      <td>35</td>\n",
       "      <td>7306.810274</td>\n",
       "      <td>0</td>\n",
       "      <td>Local industriel. commercial ou assimilé</td>\n",
       "      <td>4</td>\n",
       "    </tr>\n",
       "    <tr>\n",
       "      <th>26</th>\n",
       "      <td>298834.405808</td>\n",
       "      <td>75019</td>\n",
       "      <td>Paris 19e Arrondissement</td>\n",
       "      <td>30</td>\n",
       "      <td>9961.146860</td>\n",
       "      <td>1</td>\n",
       "      <td>Appartement</td>\n",
       "      <td>2</td>\n",
       "    </tr>\n",
       "    <tr>\n",
       "      <th>27</th>\n",
       "      <td>333404.332032</td>\n",
       "      <td>75019</td>\n",
       "      <td>Paris 19e Arrondissement</td>\n",
       "      <td>33</td>\n",
       "      <td>10103.161577</td>\n",
       "      <td>1</td>\n",
       "      <td>Appartement</td>\n",
       "      <td>2</td>\n",
       "    </tr>\n",
       "    <tr>\n",
       "      <th>28</th>\n",
       "      <td>537467.363310</td>\n",
       "      <td>75019</td>\n",
       "      <td>Paris 19e Arrondissement</td>\n",
       "      <td>56</td>\n",
       "      <td>9597.631488</td>\n",
       "      <td>1</td>\n",
       "      <td>Appartement</td>\n",
       "      <td>2</td>\n",
       "    </tr>\n",
       "    <tr>\n",
       "      <th>29</th>\n",
       "      <td>129429.748549</td>\n",
       "      <td>75019</td>\n",
       "      <td>Paris 19e Arrondissement</td>\n",
       "      <td>17</td>\n",
       "      <td>7613.514621</td>\n",
       "      <td>0</td>\n",
       "      <td>Local industriel. commercial ou assimilé</td>\n",
       "      <td>4</td>\n",
       "    </tr>\n",
       "    <tr>\n",
       "      <th>30</th>\n",
       "      <td>457531.863242</td>\n",
       "      <td>75019</td>\n",
       "      <td>Paris 19e Arrondissement</td>\n",
       "      <td>47</td>\n",
       "      <td>9734.720495</td>\n",
       "      <td>1</td>\n",
       "      <td>Appartement</td>\n",
       "      <td>2</td>\n",
       "    </tr>\n",
       "    <tr>\n",
       "      <th>31</th>\n",
       "      <td>191651.792500</td>\n",
       "      <td>75019</td>\n",
       "      <td>Paris 19e Arrondissement</td>\n",
       "      <td>25</td>\n",
       "      <td>7666.071700</td>\n",
       "      <td>0</td>\n",
       "      <td>Local industriel. commercial ou assimilé</td>\n",
       "      <td>4</td>\n",
       "    </tr>\n",
       "    <tr>\n",
       "      <th>32</th>\n",
       "      <td>991093.190548</td>\n",
       "      <td>75019</td>\n",
       "      <td>Paris 19e Arrondissement</td>\n",
       "      <td>98</td>\n",
       "      <td>10113.195822</td>\n",
       "      <td>1</td>\n",
       "      <td>Appartement</td>\n",
       "      <td>2</td>\n",
       "    </tr>\n",
       "    <tr>\n",
       "      <th>33</th>\n",
       "      <td>113655.667808</td>\n",
       "      <td>75019</td>\n",
       "      <td>Paris 19e Arrondissement</td>\n",
       "      <td>15</td>\n",
       "      <td>7577.044521</td>\n",
       "      <td>0</td>\n",
       "      <td>Local industriel. commercial ou assimilé</td>\n",
       "      <td>4</td>\n",
       "    </tr>\n",
       "    <tr>\n",
       "      <th>34</th>\n",
       "      <td>160472.445205</td>\n",
       "      <td>75019</td>\n",
       "      <td>Paris 19e Arrondissement</td>\n",
       "      <td>22</td>\n",
       "      <td>7294.202055</td>\n",
       "      <td>0</td>\n",
       "      <td>Local industriel. commercial ou assimilé</td>\n",
       "      <td>4</td>\n",
       "    </tr>\n",
       "    <tr>\n",
       "      <th>35</th>\n",
       "      <td>456118.944103</td>\n",
       "      <td>75019</td>\n",
       "      <td>Paris 19e Arrondissement</td>\n",
       "      <td>63</td>\n",
       "      <td>7239.983240</td>\n",
       "      <td>0</td>\n",
       "      <td>Local industriel. commercial ou assimilé</td>\n",
       "      <td>4</td>\n",
       "    </tr>\n",
       "    <tr>\n",
       "      <th>36</th>\n",
       "      <td>194310.633151</td>\n",
       "      <td>75019</td>\n",
       "      <td>Paris 19e Arrondissement</td>\n",
       "      <td>20</td>\n",
       "      <td>9715.531658</td>\n",
       "      <td>1</td>\n",
       "      <td>Appartement</td>\n",
       "      <td>2</td>\n",
       "    </tr>\n",
       "    <tr>\n",
       "      <th>37</th>\n",
       "      <td>379199.041849</td>\n",
       "      <td>75019</td>\n",
       "      <td>Paris 19e Arrondissement</td>\n",
       "      <td>50</td>\n",
       "      <td>7583.980837</td>\n",
       "      <td>0</td>\n",
       "      <td>Local industriel. commercial ou assimilé</td>\n",
       "      <td>4</td>\n",
       "    </tr>\n",
       "    <tr>\n",
       "      <th>38</th>\n",
       "      <td>628966.283383</td>\n",
       "      <td>75019</td>\n",
       "      <td>Paris 19e Arrondissement</td>\n",
       "      <td>63</td>\n",
       "      <td>9983.591800</td>\n",
       "      <td>1</td>\n",
       "      <td>Appartement</td>\n",
       "      <td>2</td>\n",
       "    </tr>\n",
       "    <tr>\n",
       "      <th>39</th>\n",
       "      <td>938062.665205</td>\n",
       "      <td>75019</td>\n",
       "      <td>Paris 19e Arrondissement</td>\n",
       "      <td>96</td>\n",
       "      <td>9771.486096</td>\n",
       "      <td>1</td>\n",
       "      <td>Appartement</td>\n",
       "      <td>2</td>\n",
       "    </tr>\n",
       "  </tbody>\n",
       "</table>\n",
       "</div>"
      ],
      "text/plain": [
       "    valeur_fonciere  code_postal               nom_commune  surface_reelle  \\\n",
       "0     868687.083271        75019  Paris 19e Arrondissement              88   \n",
       "1     452050.762192        75019  Paris 19e Arrondissement              45   \n",
       "2     193088.653587        75019  Paris 19e Arrondissement              21   \n",
       "3     303012.549370        75019  Paris 19e Arrondissement              32   \n",
       "4     149272.200110        75019  Paris 19e Arrondissement              20   \n",
       "5     179676.304545        75019  Paris 19e Arrondissement              18   \n",
       "6     241856.569418        75019  Paris 19e Arrondissement              25   \n",
       "7     462981.797149        75019  Paris 19e Arrondissement              63   \n",
       "8     518819.726233        75019  Paris 19e Arrondissement              53   \n",
       "9     403670.310822        75019  Paris 19e Arrondissement              53   \n",
       "10    374523.452055        75019  Paris 19e Arrondissement              50   \n",
       "11    371204.968028        75019  Paris 19e Arrondissement              39   \n",
       "12    188198.997288        75019  Paris 19e Arrondissement              26   \n",
       "13    384909.031356        75019  Paris 19e Arrondissement              39   \n",
       "14    323115.729863        75019  Paris 19e Arrondissement              44   \n",
       "15    299837.689726        75019  Paris 19e Arrondissement              41   \n",
       "16    385609.346236        75019  Paris 19e Arrondissement              52   \n",
       "17    985004.900753        75019  Paris 19e Arrondissement              99   \n",
       "18    249469.620558        75019  Paris 19e Arrondissement              25   \n",
       "19    269985.318855        75019  Paris 19e Arrondissement              37   \n",
       "20    256289.969178        75019  Paris 19e Arrondissement              35   \n",
       "21    252252.617055        75019  Paris 19e Arrondissement              35   \n",
       "22    588958.335493        75019  Paris 19e Arrondissement              60   \n",
       "23    483462.212110        75019  Paris 19e Arrondissement              65   \n",
       "24    177582.384658        75019  Paris 19e Arrondissement              24   \n",
       "25    255738.359589        75019  Paris 19e Arrondissement              35   \n",
       "26    298834.405808        75019  Paris 19e Arrondissement              30   \n",
       "27    333404.332032        75019  Paris 19e Arrondissement              33   \n",
       "28    537467.363310        75019  Paris 19e Arrondissement              56   \n",
       "29    129429.748549        75019  Paris 19e Arrondissement              17   \n",
       "30    457531.863242        75019  Paris 19e Arrondissement              47   \n",
       "31    191651.792500        75019  Paris 19e Arrondissement              25   \n",
       "32    991093.190548        75019  Paris 19e Arrondissement              98   \n",
       "33    113655.667808        75019  Paris 19e Arrondissement              15   \n",
       "34    160472.445205        75019  Paris 19e Arrondissement              22   \n",
       "35    456118.944103        75019  Paris 19e Arrondissement              63   \n",
       "36    194310.633151        75019  Paris 19e Arrondissement              20   \n",
       "37    379199.041849        75019  Paris 19e Arrondissement              50   \n",
       "38    628966.283383        75019  Paris 19e Arrondissement              63   \n",
       "39    938062.665205        75019  Paris 19e Arrondissement              96   \n",
       "\n",
       "         prix_m2  Labels                                type_local  \\\n",
       "0    9871.444128       1                               Appartement   \n",
       "1   10045.572493       1                               Appartement   \n",
       "2    9194.697790       1                               Appartement   \n",
       "3    9469.142168       1                               Appartement   \n",
       "4    7463.610005       0  Local industriel. commercial ou assimilé   \n",
       "5    9982.016919       1                               Appartement   \n",
       "6    9674.262777       1                               Appartement   \n",
       "7    7348.917415       0  Local industriel. commercial ou assimilé   \n",
       "8    9789.051438       1                               Appartement   \n",
       "9    7616.420959       0  Local industriel. commercial ou assimilé   \n",
       "10   7490.469041       0  Local industriel. commercial ou assimilé   \n",
       "11   9518.076103       1                               Appartement   \n",
       "12   7238.422973       0  Local industriel. commercial ou assimilé   \n",
       "13   9869.462342       1                               Appartement   \n",
       "14   7343.539315       0  Local industriel. commercial ou assimilé   \n",
       "15   7313.114384       0  Local industriel. commercial ou assimilé   \n",
       "16   7415.564351       0  Local industriel. commercial ou assimilé   \n",
       "17   9949.544452       1                               Appartement   \n",
       "18   9978.784822       1                               Appartement   \n",
       "19   7296.900510       0  Local industriel. commercial ou assimilé   \n",
       "20   7322.570548       0  Local industriel. commercial ou assimilé   \n",
       "21   7207.217630       0  Local industriel. commercial ou assimilé   \n",
       "22   9815.972258       1                               Appartement   \n",
       "23   7437.880186       0  Local industriel. commercial ou assimilé   \n",
       "24   7399.266027       0  Local industriel. commercial ou assimilé   \n",
       "25   7306.810274       0  Local industriel. commercial ou assimilé   \n",
       "26   9961.146860       1                               Appartement   \n",
       "27  10103.161577       1                               Appartement   \n",
       "28   9597.631488       1                               Appartement   \n",
       "29   7613.514621       0  Local industriel. commercial ou assimilé   \n",
       "30   9734.720495       1                               Appartement   \n",
       "31   7666.071700       0  Local industriel. commercial ou assimilé   \n",
       "32  10113.195822       1                               Appartement   \n",
       "33   7577.044521       0  Local industriel. commercial ou assimilé   \n",
       "34   7294.202055       0  Local industriel. commercial ou assimilé   \n",
       "35   7239.983240       0  Local industriel. commercial ou assimilé   \n",
       "36   9715.531658       1                               Appartement   \n",
       "37   7583.980837       0  Local industriel. commercial ou assimilé   \n",
       "38   9983.591800       1                               Appartement   \n",
       "39   9771.486096       1                               Appartement   \n",
       "\n",
       "    code_type_local  \n",
       "0                 2  \n",
       "1                 2  \n",
       "2                 2  \n",
       "3                 2  \n",
       "4                 4  \n",
       "5                 2  \n",
       "6                 2  \n",
       "7                 4  \n",
       "8                 2  \n",
       "9                 4  \n",
       "10                4  \n",
       "11                2  \n",
       "12                4  \n",
       "13                2  \n",
       "14                4  \n",
       "15                4  \n",
       "16                4  \n",
       "17                2  \n",
       "18                2  \n",
       "19                4  \n",
       "20                4  \n",
       "21                4  \n",
       "22                2  \n",
       "23                4  \n",
       "24                4  \n",
       "25                4  \n",
       "26                2  \n",
       "27                2  \n",
       "28                2  \n",
       "29                4  \n",
       "30                2  \n",
       "31                4  \n",
       "32                2  \n",
       "33                4  \n",
       "34                4  \n",
       "35                4  \n",
       "36                2  \n",
       "37                4  \n",
       "38                2  \n",
       "39                2  "
      ]
     },
     "execution_count": 55,
     "metadata": {},
     "output_type": "execute_result"
    }
   ],
   "source": [
    "dataframe\n",
    "#Une comparaison a été effectuée entre ce tableau des résultats et la table du fichier Excel, présentée au début du projet"
   ]
  },
  {
   "cell_type": "code",
   "execution_count": 56,
   "id": "ecb1ec6a",
   "metadata": {
    "id": "ecb1ec6a"
   },
   "outputs": [],
   "source": [
    "#On affiche les résultats\n"
   ]
  },
  {
   "cell_type": "markdown",
   "id": "cea621ed",
   "metadata": {
    "id": "cea621ed"
   },
   "source": [
    "# Milestone 5 - Analyse et présentation des résultats"
   ]
  },
  {
   "cell_type": "markdown",
   "id": "9553046e",
   "metadata": {
    "id": "9553046e"
   },
   "source": [
    "My conclusions on the analysis and the limitations of the exercise\n"
   ]
  },
  {
   "cell_type": "code",
   "execution_count": 57,
   "id": "xxSGQQWQ9g6J",
   "metadata": {
    "colab": {
     "base_uri": "https://localhost:8080/",
     "height": 143
    },
    "executionInfo": {
     "elapsed": 469,
     "status": "ok",
     "timestamp": 1703424030765,
     "user": {
      "displayName": "Farhad Seyidov",
      "userId": "09233354394331620593"
     },
     "user_tz": -240
    },
    "id": "xxSGQQWQ9g6J",
    "outputId": "fd4b3e75-59d1-41df-b0dc-cbe281355a84"
   },
   "outputs": [
    {
     "data": {
      "text/html": [
       "<div>\n",
       "<style scoped>\n",
       "    .dataframe tbody tr th:only-of-type {\n",
       "        vertical-align: middle;\n",
       "    }\n",
       "\n",
       "    .dataframe tbody tr th {\n",
       "        vertical-align: top;\n",
       "    }\n",
       "\n",
       "    .dataframe thead th {\n",
       "        text-align: right;\n",
       "    }\n",
       "</style>\n",
       "<table border=\"1\" class=\"dataframe\">\n",
       "  <thead>\n",
       "    <tr style=\"text-align: right;\">\n",
       "      <th></th>\n",
       "      <th>valeur_fonciere</th>\n",
       "      <th>surface_reelle</th>\n",
       "      <th>prix_m2</th>\n",
       "    </tr>\n",
       "    <tr>\n",
       "      <th>type_local</th>\n",
       "      <th></th>\n",
       "      <th></th>\n",
       "      <th></th>\n",
       "    </tr>\n",
       "  </thead>\n",
       "  <tbody>\n",
       "    <tr>\n",
       "      <th>Appartement</th>\n",
       "      <td>485820.462074</td>\n",
       "      <td>49.35</td>\n",
       "      <td>9806.924674</td>\n",
       "    </tr>\n",
       "    <tr>\n",
       "      <th>Local industriel. commercial ou assimilé</th>\n",
       "      <td>285652.401235</td>\n",
       "      <td>38.60</td>\n",
       "      <td>7408.775030</td>\n",
       "    </tr>\n",
       "  </tbody>\n",
       "</table>\n",
       "</div>"
      ],
      "text/plain": [
       "                                          valeur_fonciere  surface_reelle  \\\n",
       "type_local                                                                  \n",
       "Appartement                                 485820.462074           49.35   \n",
       "Local industriel. commercial ou assimilé    285652.401235           38.60   \n",
       "\n",
       "                                              prix_m2  \n",
       "type_local                                             \n",
       "Appartement                               9806.924674  \n",
       "Local industriel. commercial ou assimilé  7408.775030  "
      ]
     },
     "execution_count": 57,
     "metadata": {},
     "output_type": "execute_result"
    }
   ],
   "source": [
    "dataframe.groupby('type_local')[['valeur_fonciere','surface_reelle', 'prix_m2']].mean()"
   ]
  },
  {
   "cell_type": "code",
   "execution_count": 58,
   "id": "g_rpMzgB9Il1",
   "metadata": {
    "colab": {
     "base_uri": "https://localhost:8080/",
     "height": 637
    },
    "executionInfo": {
     "elapsed": 795,
     "status": "ok",
     "timestamp": 1703424036797,
     "user": {
      "displayName": "Farhad Seyidov",
      "userId": "09233354394331620593"
     },
     "user_tz": -240
    },
    "id": "g_rpMzgB9Il1",
    "outputId": "44d675ee-3785-4d04-8e6e-014742a13c5d"
   },
   "outputs": [
    {
     "data": {
      "image/png": "[encoded data removed]",
      "text/plain": [
       "<Figure size 700x700 with 1 Axes>"
      ]
     },
     "metadata": {},
     "output_type": "display_data"
    }
   ],
   "source": [
    "plt.figure(figsize=(7,7))\n",
    "sns.kdeplot(data=dataframe[dataframe['code_type_local'] == 4], x=\"prix_m2\")\n",
    "\n",
    "mean_value = dataframe[dataframe['code_type_local'] == 4]['prix_m2'].mean()\n",
    "\n",
    "\n",
    "median_value = dataframe[dataframe['code_type_local'] == 4]['prix_m2'].median()\n",
    "\n",
    "\n",
    "plt.axvline(x=mean_value, color='blue')\n",
    "plt.axvline(x=median_value, color='red')\n",
    "plt.title('Le prix moyen du mètre carré dans le cluster corporate')\n",
    "plt.show()"
   ]
  },
  {
   "cell_type": "code",
   "execution_count": 59,
   "id": "WuNryCfF-Gkf",
   "metadata": {
    "colab": {
     "base_uri": "https://localhost:8080/",
     "height": 483
    },
    "executionInfo": {
     "elapsed": 2245,
     "status": "ok",
     "timestamp": 1703424040519,
     "user": {
      "displayName": "Farhad Seyidov",
      "userId": "09233354394331620593"
     },
     "user_tz": -240
    },
    "id": "WuNryCfF-Gkf",
    "outputId": "d22ca384-2f96-4e4f-e50f-2c927cf830a0"
   },
   "outputs": [
    {
     "data": {
      "image/png": "[encoded data removed]",
      "text/plain": [
       "<Figure size 500x500 with 1 Axes>"
      ]
     },
     "metadata": {},
     "output_type": "display_data"
    }
   ],
   "source": [
    "plt.figure(figsize=(5,5))\n",
    "sns.kdeplot(data=dataframe[dataframe['code_type_local'] == 2], x=\"prix_m2\")\n",
    "\n",
    "\n",
    "mean_value = dataframe[dataframe['code_type_local'] == 2]['prix_m2'].mean()\n",
    "\n",
    "\n",
    "median_value = dataframe[dataframe['code_type_local'] == 2]['prix_m2'].median()\n",
    "\n",
    "\n",
    "plt.axvline(x=mean_value, color='blue')\n",
    "\n",
    "\n",
    "plt.axvline(x=median_value, color='red')\n",
    "plt.title('Le prix moyen du mètre carré dans le cluster \"Appartement\"')\n",
    "plt.show()\n",
    "\n"
   ]
  },
  {
   "cell_type": "code",
   "execution_count": 60,
   "id": "X_ADnc75-icF",
   "metadata": {
    "colab": {
     "base_uri": "https://localhost:8080/",
     "height": 143
    },
    "executionInfo": {
     "elapsed": 15,
     "status": "ok",
     "timestamp": 1703424197704,
     "user": {
      "displayName": "Farhad Seyidov",
      "userId": "09233354394331620593"
     },
     "user_tz": -240
    },
    "id": "X_ADnc75-icF",
    "outputId": "63002c5c-6356-4697-dc44-4854544561e0"
   },
   "outputs": [
    {
     "data": {
      "text/html": [
       "<div>\n",
       "<style scoped>\n",
       "    .dataframe tbody tr th:only-of-type {\n",
       "        vertical-align: middle;\n",
       "    }\n",
       "\n",
       "    .dataframe tbody tr th {\n",
       "        vertical-align: top;\n",
       "    }\n",
       "\n",
       "    .dataframe thead th {\n",
       "        text-align: right;\n",
       "    }\n",
       "</style>\n",
       "<table border=\"1\" class=\"dataframe\">\n",
       "  <thead>\n",
       "    <tr style=\"text-align: right;\">\n",
       "      <th></th>\n",
       "      <th>mean</th>\n",
       "      <th>median</th>\n",
       "    </tr>\n",
       "    <tr>\n",
       "      <th>type_local</th>\n",
       "      <th></th>\n",
       "      <th></th>\n",
       "    </tr>\n",
       "  </thead>\n",
       "  <tbody>\n",
       "    <tr>\n",
       "      <th>Appartement</th>\n",
       "      <td>9806.924674</td>\n",
       "      <td>9842.717300</td>\n",
       "    </tr>\n",
       "    <tr>\n",
       "      <th>Local industriel. commercial ou assimilé</th>\n",
       "      <td>7408.775030</td>\n",
       "      <td>7374.091721</td>\n",
       "    </tr>\n",
       "  </tbody>\n",
       "</table>\n",
       "</div>"
      ],
      "text/plain": [
       "                                                 mean       median\n",
       "type_local                                                        \n",
       "Appartement                               9806.924674  9842.717300\n",
       "Local industriel. commercial ou assimilé  7408.775030  7374.091721"
      ]
     },
     "execution_count": 60,
     "metadata": {},
     "output_type": "execute_result"
    }
   ],
   "source": [
    "dataframe.groupby('type_local')['prix_m2'].agg(['mean', 'median'])"
   ]
  },
  {
   "cell_type": "markdown",
   "id": "ko6kSHbmCaAR",
   "metadata": {
    "id": "ko6kSHbmCaAR"
   },
   "source": [
    "Les graphiques de densité de distribution pour les deux types de locaux montrent clairement que la répartition des prix au mètre carré pour les immeubles résidentiels est plus éloignée de la distribution normale que celle observée dans la répartition des prix au mètre carré pour les immeubles commerciaux. Ainsi, pour les locaux résidentiels, la différence entre le prix médian et le prix moyen au mètre carré est plus grande que pour les locaux commerciaux.\n",
    "\n",
    "-Certains algorithmes de clustering peuvent être inefficaces pour des ensembles de données très volumineux en raison de leur complexité calculatoire.\n",
    "-Certains ensembles de données peuvent présenter des clusters qui se chevauchent ou qui ne sont pas nettement séparables, ce qui complique la tâche du clustering."
   ]
  }
 ],
 "metadata": {
  "colab": {
   "provenance": []
  },
  "kernelspec": {
   "display_name": "Python 3 (ipykernel)",
   "language": "python",
   "name": "python3"
  },
  "language_info": {
   "codemirror_mode": {
    "name": "ipython",
    "version": 3
   },
   "file_extension": ".py",
   "mimetype": "text/x-python",
   "name": "python",
   "nbconvert_exporter": "python",
   "pygments_lexer": "ipython3",
   "version": "3.10.9"
  }
 },
 "nbformat": 4,
 "nbformat_minor": 5
}
